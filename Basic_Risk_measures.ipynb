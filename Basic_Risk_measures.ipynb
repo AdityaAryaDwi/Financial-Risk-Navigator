{
 "cells": [
  {
   "cell_type": "code",
   "execution_count": 55,
   "id": "08874710",
   "metadata": {},
   "outputs": [
    {
     "name": "stdout",
     "output_type": "stream",
     "text": [
      "The autoreload extension is already loaded. To reload it, use:\n",
      "  %reload_ext autoreload\n"
     ]
    }
   ],
   "source": [
    "%load_ext autoreload\n",
    "%autoreload 2"
   ]
  },
  {
   "cell_type": "code",
   "execution_count": 2,
   "id": "4616f94d",
   "metadata": {},
   "outputs": [],
   "source": [
    "import pandas as pd\n",
    "import Risk_Kit as rk"
   ]
  },
  {
   "cell_type": "markdown",
   "id": "bf53dd03",
   "metadata": {},
   "source": [
    "## Loading and cleaning Indices Data"
   ]
  },
  {
   "cell_type": "code",
   "execution_count": 3,
   "id": "c6909336",
   "metadata": {},
   "outputs": [
    {
     "name": "stderr",
     "output_type": "stream",
     "text": [
      "C:\\Users\\chris\\AppData\\Local\\Temp\\ipykernel_11532\\835172555.py:1: UserWarning: Could not infer format, so each element will be parsed individually, falling back to `dateutil`. To ensure parsing is consistent and as-expected, please specify a format.\n",
      "  returns=pd.read_csv(\"Portfolios_Formed_on_ME_monthly_EW.csv\",index_col=0,header=0,na_values=-99.99,parse_dates=True)\n"
     ]
    },
    {
     "data": {
      "text/html": [
       "<div>\n",
       "<style scoped>\n",
       "    .dataframe tbody tr th:only-of-type {\n",
       "        vertical-align: middle;\n",
       "    }\n",
       "\n",
       "    .dataframe tbody tr th {\n",
       "        vertical-align: top;\n",
       "    }\n",
       "\n",
       "    .dataframe thead th {\n",
       "        text-align: right;\n",
       "    }\n",
       "</style>\n",
       "<table border=\"1\" class=\"dataframe\">\n",
       "  <thead>\n",
       "    <tr style=\"text-align: right;\">\n",
       "      <th></th>\n",
       "      <th>&lt;= 0</th>\n",
       "      <th>Lo 30</th>\n",
       "      <th>Med 40</th>\n",
       "      <th>Hi 30</th>\n",
       "      <th>Lo 20</th>\n",
       "      <th>Qnt 2</th>\n",
       "      <th>Qnt 3</th>\n",
       "      <th>Qnt 4</th>\n",
       "      <th>Hi 20</th>\n",
       "      <th>Lo 10</th>\n",
       "      <th>Dec 2</th>\n",
       "      <th>Dec 3</th>\n",
       "      <th>Dec 4</th>\n",
       "      <th>Dec 5</th>\n",
       "      <th>Dec 6</th>\n",
       "      <th>Dec 7</th>\n",
       "      <th>Dec 8</th>\n",
       "      <th>Dec 9</th>\n",
       "      <th>Hi 10</th>\n",
       "    </tr>\n",
       "  </thead>\n",
       "  <tbody>\n",
       "    <tr>\n",
       "      <th>192607</th>\n",
       "      <td>NaN</td>\n",
       "      <td>-0.4300</td>\n",
       "      <td>1.5200</td>\n",
       "      <td>2.6800</td>\n",
       "      <td>-0.5700</td>\n",
       "      <td>0.5900</td>\n",
       "      <td>1.6000</td>\n",
       "      <td>1.4700</td>\n",
       "      <td>3.3300</td>\n",
       "      <td>-1.4500</td>\n",
       "      <td>0.2900</td>\n",
       "      <td>-0.1500</td>\n",
       "      <td>1.3300</td>\n",
       "      <td>1.2400</td>\n",
       "      <td>1.9800</td>\n",
       "      <td>1.5500</td>\n",
       "      <td>1.3800</td>\n",
       "      <td>3.3800</td>\n",
       "      <td>3.2900</td>\n",
       "    </tr>\n",
       "    <tr>\n",
       "      <th>192608</th>\n",
       "      <td>NaN</td>\n",
       "      <td>3.9000</td>\n",
       "      <td>3.0400</td>\n",
       "      <td>2.0900</td>\n",
       "      <td>3.8400</td>\n",
       "      <td>3.5900</td>\n",
       "      <td>3.7100</td>\n",
       "      <td>1.6100</td>\n",
       "      <td>2.3300</td>\n",
       "      <td>5.1200</td>\n",
       "      <td>2.5900</td>\n",
       "      <td>4.0300</td>\n",
       "      <td>3.1500</td>\n",
       "      <td>2.7200</td>\n",
       "      <td>4.7200</td>\n",
       "      <td>1.6000</td>\n",
       "      <td>1.6300</td>\n",
       "      <td>0.9800</td>\n",
       "      <td>3.7000</td>\n",
       "    </tr>\n",
       "    <tr>\n",
       "      <th>192609</th>\n",
       "      <td>NaN</td>\n",
       "      <td>-1.0800</td>\n",
       "      <td>-0.5400</td>\n",
       "      <td>0.1600</td>\n",
       "      <td>-0.4800</td>\n",
       "      <td>-1.4000</td>\n",
       "      <td>0.0000</td>\n",
       "      <td>-0.5000</td>\n",
       "      <td>-0.0900</td>\n",
       "      <td>0.9300</td>\n",
       "      <td>-1.8700</td>\n",
       "      <td>-2.2700</td>\n",
       "      <td>-0.5300</td>\n",
       "      <td>0.0700</td>\n",
       "      <td>-0.0700</td>\n",
       "      <td>-1.6400</td>\n",
       "      <td>0.6400</td>\n",
       "      <td>-0.8600</td>\n",
       "      <td>0.6700</td>\n",
       "    </tr>\n",
       "    <tr>\n",
       "      <th>192610</th>\n",
       "      <td>NaN</td>\n",
       "      <td>-3.3200</td>\n",
       "      <td>-3.5200</td>\n",
       "      <td>-3.0600</td>\n",
       "      <td>-3.2900</td>\n",
       "      <td>-4.1000</td>\n",
       "      <td>-2.8900</td>\n",
       "      <td>-3.3600</td>\n",
       "      <td>-2.9500</td>\n",
       "      <td>-4.8400</td>\n",
       "      <td>-1.7700</td>\n",
       "      <td>-3.3600</td>\n",
       "      <td>-4.8300</td>\n",
       "      <td>-2.9800</td>\n",
       "      <td>-2.8000</td>\n",
       "      <td>-3.4500</td>\n",
       "      <td>-3.2700</td>\n",
       "      <td>-3.4700</td>\n",
       "      <td>-2.4300</td>\n",
       "    </tr>\n",
       "    <tr>\n",
       "      <th>192611</th>\n",
       "      <td>NaN</td>\n",
       "      <td>-0.4600</td>\n",
       "      <td>3.8200</td>\n",
       "      <td>3.0900</td>\n",
       "      <td>-0.5500</td>\n",
       "      <td>2.1800</td>\n",
       "      <td>3.4100</td>\n",
       "      <td>3.3900</td>\n",
       "      <td>3.1600</td>\n",
       "      <td>-0.7800</td>\n",
       "      <td>-0.3200</td>\n",
       "      <td>-0.2900</td>\n",
       "      <td>4.6500</td>\n",
       "      <td>3.2400</td>\n",
       "      <td>3.5700</td>\n",
       "      <td>3.8200</td>\n",
       "      <td>2.9500</td>\n",
       "      <td>3.6100</td>\n",
       "      <td>2.7000</td>\n",
       "    </tr>\n",
       "  </tbody>\n",
       "</table>\n",
       "</div>"
      ],
      "text/plain": [
       "        <= 0   Lo 30  Med 40   Hi 30   Lo 20   Qnt 2   Qnt 3   Qnt 4   Hi 20  \\\n",
       "192607   NaN -0.4300  1.5200  2.6800 -0.5700  0.5900  1.6000  1.4700  3.3300   \n",
       "192608   NaN  3.9000  3.0400  2.0900  3.8400  3.5900  3.7100  1.6100  2.3300   \n",
       "192609   NaN -1.0800 -0.5400  0.1600 -0.4800 -1.4000  0.0000 -0.5000 -0.0900   \n",
       "192610   NaN -3.3200 -3.5200 -3.0600 -3.2900 -4.1000 -2.8900 -3.3600 -2.9500   \n",
       "192611   NaN -0.4600  3.8200  3.0900 -0.5500  2.1800  3.4100  3.3900  3.1600   \n",
       "\n",
       "         Lo 10   Dec 2   Dec 3   Dec 4   Dec 5   Dec 6   Dec 7   Dec 8  \\\n",
       "192607 -1.4500  0.2900 -0.1500  1.3300  1.2400  1.9800  1.5500  1.3800   \n",
       "192608  5.1200  2.5900  4.0300  3.1500  2.7200  4.7200  1.6000  1.6300   \n",
       "192609  0.9300 -1.8700 -2.2700 -0.5300  0.0700 -0.0700 -1.6400  0.6400   \n",
       "192610 -4.8400 -1.7700 -3.3600 -4.8300 -2.9800 -2.8000 -3.4500 -3.2700   \n",
       "192611 -0.7800 -0.3200 -0.2900  4.6500  3.2400  3.5700  3.8200  2.9500   \n",
       "\n",
       "         Dec 9   Hi 10  \n",
       "192607  3.3800  3.2900  \n",
       "192608  0.9800  3.7000  \n",
       "192609 -0.8600  0.6700  \n",
       "192610 -3.4700 -2.4300  \n",
       "192611  3.6100  2.7000  "
      ]
     },
     "execution_count": 3,
     "metadata": {},
     "output_type": "execute_result"
    }
   ],
   "source": [
    "returns=pd.read_csv(\"Portfolios_Formed_on_ME_monthly_EW.csv\",index_col=0,header=0,na_values=-99.99,parse_dates=True)\n",
    "returns.head()"
   ]
  },
  {
   "cell_type": "code",
   "execution_count": 4,
   "id": "bca412b7",
   "metadata": {},
   "outputs": [
    {
     "data": {
      "text/plain": [
       "Index([192607, 192608, 192609, 192610, 192611, 192612, 192701, 192702, 192703,\n",
       "       192704,\n",
       "       ...\n",
       "       201803, 201804, 201805, 201806, 201807, 201808, 201809, 201810, 201811,\n",
       "       201812],\n",
       "      dtype='int64', length=1110)"
      ]
     },
     "execution_count": 4,
     "metadata": {},
     "output_type": "execute_result"
    }
   ],
   "source": [
    "returns.index"
   ]
  },
  {
   "cell_type": "markdown",
   "id": "38bb5778",
   "metadata": {},
   "source": [
    "### Conversion to Timeseries"
   ]
  },
  {
   "cell_type": "code",
   "execution_count": 5,
   "id": "4496ded6",
   "metadata": {},
   "outputs": [
    {
     "data": {
      "text/html": [
       "<div>\n",
       "<style scoped>\n",
       "    .dataframe tbody tr th:only-of-type {\n",
       "        vertical-align: middle;\n",
       "    }\n",
       "\n",
       "    .dataframe tbody tr th {\n",
       "        vertical-align: top;\n",
       "    }\n",
       "\n",
       "    .dataframe thead th {\n",
       "        text-align: right;\n",
       "    }\n",
       "</style>\n",
       "<table border=\"1\" class=\"dataframe\">\n",
       "  <thead>\n",
       "    <tr style=\"text-align: right;\">\n",
       "      <th></th>\n",
       "      <th>&lt;= 0</th>\n",
       "      <th>Lo 30</th>\n",
       "      <th>Med 40</th>\n",
       "      <th>Hi 30</th>\n",
       "      <th>Lo 20</th>\n",
       "      <th>Qnt 2</th>\n",
       "      <th>Qnt 3</th>\n",
       "      <th>Qnt 4</th>\n",
       "      <th>Hi 20</th>\n",
       "      <th>Lo 10</th>\n",
       "      <th>Dec 2</th>\n",
       "      <th>Dec 3</th>\n",
       "      <th>Dec 4</th>\n",
       "      <th>Dec 5</th>\n",
       "      <th>Dec 6</th>\n",
       "      <th>Dec 7</th>\n",
       "      <th>Dec 8</th>\n",
       "      <th>Dec 9</th>\n",
       "      <th>Hi 10</th>\n",
       "    </tr>\n",
       "  </thead>\n",
       "  <tbody>\n",
       "    <tr>\n",
       "      <th>1926-07</th>\n",
       "      <td>NaN</td>\n",
       "      <td>-0.4300</td>\n",
       "      <td>1.5200</td>\n",
       "      <td>2.6800</td>\n",
       "      <td>-0.5700</td>\n",
       "      <td>0.5900</td>\n",
       "      <td>1.6000</td>\n",
       "      <td>1.4700</td>\n",
       "      <td>3.3300</td>\n",
       "      <td>-1.4500</td>\n",
       "      <td>0.2900</td>\n",
       "      <td>-0.1500</td>\n",
       "      <td>1.3300</td>\n",
       "      <td>1.2400</td>\n",
       "      <td>1.9800</td>\n",
       "      <td>1.5500</td>\n",
       "      <td>1.3800</td>\n",
       "      <td>3.3800</td>\n",
       "      <td>3.2900</td>\n",
       "    </tr>\n",
       "    <tr>\n",
       "      <th>1926-08</th>\n",
       "      <td>NaN</td>\n",
       "      <td>3.9000</td>\n",
       "      <td>3.0400</td>\n",
       "      <td>2.0900</td>\n",
       "      <td>3.8400</td>\n",
       "      <td>3.5900</td>\n",
       "      <td>3.7100</td>\n",
       "      <td>1.6100</td>\n",
       "      <td>2.3300</td>\n",
       "      <td>5.1200</td>\n",
       "      <td>2.5900</td>\n",
       "      <td>4.0300</td>\n",
       "      <td>3.1500</td>\n",
       "      <td>2.7200</td>\n",
       "      <td>4.7200</td>\n",
       "      <td>1.6000</td>\n",
       "      <td>1.6300</td>\n",
       "      <td>0.9800</td>\n",
       "      <td>3.7000</td>\n",
       "    </tr>\n",
       "    <tr>\n",
       "      <th>1926-09</th>\n",
       "      <td>NaN</td>\n",
       "      <td>-1.0800</td>\n",
       "      <td>-0.5400</td>\n",
       "      <td>0.1600</td>\n",
       "      <td>-0.4800</td>\n",
       "      <td>-1.4000</td>\n",
       "      <td>0.0000</td>\n",
       "      <td>-0.5000</td>\n",
       "      <td>-0.0900</td>\n",
       "      <td>0.9300</td>\n",
       "      <td>-1.8700</td>\n",
       "      <td>-2.2700</td>\n",
       "      <td>-0.5300</td>\n",
       "      <td>0.0700</td>\n",
       "      <td>-0.0700</td>\n",
       "      <td>-1.6400</td>\n",
       "      <td>0.6400</td>\n",
       "      <td>-0.8600</td>\n",
       "      <td>0.6700</td>\n",
       "    </tr>\n",
       "    <tr>\n",
       "      <th>1926-10</th>\n",
       "      <td>NaN</td>\n",
       "      <td>-3.3200</td>\n",
       "      <td>-3.5200</td>\n",
       "      <td>-3.0600</td>\n",
       "      <td>-3.2900</td>\n",
       "      <td>-4.1000</td>\n",
       "      <td>-2.8900</td>\n",
       "      <td>-3.3600</td>\n",
       "      <td>-2.9500</td>\n",
       "      <td>-4.8400</td>\n",
       "      <td>-1.7700</td>\n",
       "      <td>-3.3600</td>\n",
       "      <td>-4.8300</td>\n",
       "      <td>-2.9800</td>\n",
       "      <td>-2.8000</td>\n",
       "      <td>-3.4500</td>\n",
       "      <td>-3.2700</td>\n",
       "      <td>-3.4700</td>\n",
       "      <td>-2.4300</td>\n",
       "    </tr>\n",
       "    <tr>\n",
       "      <th>1926-11</th>\n",
       "      <td>NaN</td>\n",
       "      <td>-0.4600</td>\n",
       "      <td>3.8200</td>\n",
       "      <td>3.0900</td>\n",
       "      <td>-0.5500</td>\n",
       "      <td>2.1800</td>\n",
       "      <td>3.4100</td>\n",
       "      <td>3.3900</td>\n",
       "      <td>3.1600</td>\n",
       "      <td>-0.7800</td>\n",
       "      <td>-0.3200</td>\n",
       "      <td>-0.2900</td>\n",
       "      <td>4.6500</td>\n",
       "      <td>3.2400</td>\n",
       "      <td>3.5700</td>\n",
       "      <td>3.8200</td>\n",
       "      <td>2.9500</td>\n",
       "      <td>3.6100</td>\n",
       "      <td>2.7000</td>\n",
       "    </tr>\n",
       "  </tbody>\n",
       "</table>\n",
       "</div>"
      ],
      "text/plain": [
       "         <= 0   Lo 30  Med 40   Hi 30   Lo 20   Qnt 2   Qnt 3   Qnt 4   Hi 20  \\\n",
       "1926-07   NaN -0.4300  1.5200  2.6800 -0.5700  0.5900  1.6000  1.4700  3.3300   \n",
       "1926-08   NaN  3.9000  3.0400  2.0900  3.8400  3.5900  3.7100  1.6100  2.3300   \n",
       "1926-09   NaN -1.0800 -0.5400  0.1600 -0.4800 -1.4000  0.0000 -0.5000 -0.0900   \n",
       "1926-10   NaN -3.3200 -3.5200 -3.0600 -3.2900 -4.1000 -2.8900 -3.3600 -2.9500   \n",
       "1926-11   NaN -0.4600  3.8200  3.0900 -0.5500  2.1800  3.4100  3.3900  3.1600   \n",
       "\n",
       "          Lo 10   Dec 2   Dec 3   Dec 4   Dec 5   Dec 6   Dec 7   Dec 8  \\\n",
       "1926-07 -1.4500  0.2900 -0.1500  1.3300  1.2400  1.9800  1.5500  1.3800   \n",
       "1926-08  5.1200  2.5900  4.0300  3.1500  2.7200  4.7200  1.6000  1.6300   \n",
       "1926-09  0.9300 -1.8700 -2.2700 -0.5300  0.0700 -0.0700 -1.6400  0.6400   \n",
       "1926-10 -4.8400 -1.7700 -3.3600 -4.8300 -2.9800 -2.8000 -3.4500 -3.2700   \n",
       "1926-11 -0.7800 -0.3200 -0.2900  4.6500  3.2400  3.5700  3.8200  2.9500   \n",
       "\n",
       "          Dec 9   Hi 10  \n",
       "1926-07  3.3800  3.2900  \n",
       "1926-08  0.9800  3.7000  \n",
       "1926-09 -0.8600  0.6700  \n",
       "1926-10 -3.4700 -2.4300  \n",
       "1926-11  3.6100  2.7000  "
      ]
     },
     "execution_count": 5,
     "metadata": {},
     "output_type": "execute_result"
    }
   ],
   "source": [
    "returns.index=pd.to_datetime(returns.index,format=\"%Y%m\")\n",
    "returns.index=returns.index.to_period(\"M\")\n",
    "returns.head()"
   ]
  },
  {
   "cell_type": "code",
   "execution_count": 6,
   "id": "3bbb38a3",
   "metadata": {},
   "outputs": [
    {
     "name": "stdout",
     "output_type": "stream",
     "text": [
      "<class 'pandas.core.frame.DataFrame'>\n",
      "PeriodIndex: 1110 entries, 1926-07 to 2018-12\n",
      "Freq: M\n",
      "Data columns (total 19 columns):\n",
      " #   Column  Non-Null Count  Dtype  \n",
      "---  ------  --------------  -----  \n",
      " 0   <= 0    0 non-null      float64\n",
      " 1   Lo 30   1110 non-null   float64\n",
      " 2   Med 40  1110 non-null   float64\n",
      " 3   Hi 30   1110 non-null   float64\n",
      " 4   Lo 20   1110 non-null   float64\n",
      " 5   Qnt 2   1110 non-null   float64\n",
      " 6   Qnt 3   1110 non-null   float64\n",
      " 7   Qnt 4   1110 non-null   float64\n",
      " 8   Hi 20   1110 non-null   float64\n",
      " 9   Lo 10   1110 non-null   float64\n",
      " 10  Dec 2   1110 non-null   float64\n",
      " 11  Dec 3   1110 non-null   float64\n",
      " 12  Dec 4   1110 non-null   float64\n",
      " 13  Dec 5   1110 non-null   float64\n",
      " 14  Dec 6   1110 non-null   float64\n",
      " 15  Dec 7   1110 non-null   float64\n",
      " 16  Dec 8   1110 non-null   float64\n",
      " 17  Dec 9   1110 non-null   float64\n",
      " 18  Hi 10   1110 non-null   float64\n",
      "dtypes: float64(19)\n",
      "memory usage: 173.4 KB\n"
     ]
    }
   ],
   "source": [
    "returns.info()"
   ]
  },
  {
   "cell_type": "markdown",
   "id": "03526607",
   "metadata": {},
   "source": [
    "### Dealing with missing values"
   ]
  },
  {
   "cell_type": "code",
   "execution_count": 7,
   "id": "7fc2bac2",
   "metadata": {},
   "outputs": [],
   "source": [
    "returns.drop(returns.columns[0],axis=1,inplace=True)"
   ]
  },
  {
   "cell_type": "code",
   "execution_count": 8,
   "id": "af79290c",
   "metadata": {},
   "outputs": [],
   "source": [
    "returns.rename(columns={\"Lo 10\":\"SmallCap\",\"Hi 10\":\"LargeCap\"},inplace=True)"
   ]
  },
  {
   "cell_type": "code",
   "execution_count": 9,
   "id": "1ac8bdbf",
   "metadata": {},
   "outputs": [
    {
     "data": {
      "text/html": [
       "<div>\n",
       "<style scoped>\n",
       "    .dataframe tbody tr th:only-of-type {\n",
       "        vertical-align: middle;\n",
       "    }\n",
       "\n",
       "    .dataframe tbody tr th {\n",
       "        vertical-align: top;\n",
       "    }\n",
       "\n",
       "    .dataframe thead th {\n",
       "        text-align: right;\n",
       "    }\n",
       "</style>\n",
       "<table border=\"1\" class=\"dataframe\">\n",
       "  <thead>\n",
       "    <tr style=\"text-align: right;\">\n",
       "      <th></th>\n",
       "      <th>Lo 30</th>\n",
       "      <th>Med 40</th>\n",
       "      <th>Hi 30</th>\n",
       "      <th>Lo 20</th>\n",
       "      <th>Qnt 2</th>\n",
       "      <th>Qnt 3</th>\n",
       "      <th>Qnt 4</th>\n",
       "      <th>Hi 20</th>\n",
       "      <th>SmallCap</th>\n",
       "      <th>Dec 2</th>\n",
       "      <th>Dec 3</th>\n",
       "      <th>Dec 4</th>\n",
       "      <th>Dec 5</th>\n",
       "      <th>Dec 6</th>\n",
       "      <th>Dec 7</th>\n",
       "      <th>Dec 8</th>\n",
       "      <th>Dec 9</th>\n",
       "      <th>LargeCap</th>\n",
       "    </tr>\n",
       "  </thead>\n",
       "  <tbody>\n",
       "    <tr>\n",
       "      <th>1926-07</th>\n",
       "      <td>-0.4300</td>\n",
       "      <td>1.5200</td>\n",
       "      <td>2.6800</td>\n",
       "      <td>-0.5700</td>\n",
       "      <td>0.5900</td>\n",
       "      <td>1.6000</td>\n",
       "      <td>1.4700</td>\n",
       "      <td>3.3300</td>\n",
       "      <td>-1.4500</td>\n",
       "      <td>0.2900</td>\n",
       "      <td>-0.1500</td>\n",
       "      <td>1.3300</td>\n",
       "      <td>1.2400</td>\n",
       "      <td>1.9800</td>\n",
       "      <td>1.5500</td>\n",
       "      <td>1.3800</td>\n",
       "      <td>3.3800</td>\n",
       "      <td>3.2900</td>\n",
       "    </tr>\n",
       "    <tr>\n",
       "      <th>1926-08</th>\n",
       "      <td>3.9000</td>\n",
       "      <td>3.0400</td>\n",
       "      <td>2.0900</td>\n",
       "      <td>3.8400</td>\n",
       "      <td>3.5900</td>\n",
       "      <td>3.7100</td>\n",
       "      <td>1.6100</td>\n",
       "      <td>2.3300</td>\n",
       "      <td>5.1200</td>\n",
       "      <td>2.5900</td>\n",
       "      <td>4.0300</td>\n",
       "      <td>3.1500</td>\n",
       "      <td>2.7200</td>\n",
       "      <td>4.7200</td>\n",
       "      <td>1.6000</td>\n",
       "      <td>1.6300</td>\n",
       "      <td>0.9800</td>\n",
       "      <td>3.7000</td>\n",
       "    </tr>\n",
       "    <tr>\n",
       "      <th>1926-09</th>\n",
       "      <td>-1.0800</td>\n",
       "      <td>-0.5400</td>\n",
       "      <td>0.1600</td>\n",
       "      <td>-0.4800</td>\n",
       "      <td>-1.4000</td>\n",
       "      <td>0.0000</td>\n",
       "      <td>-0.5000</td>\n",
       "      <td>-0.0900</td>\n",
       "      <td>0.9300</td>\n",
       "      <td>-1.8700</td>\n",
       "      <td>-2.2700</td>\n",
       "      <td>-0.5300</td>\n",
       "      <td>0.0700</td>\n",
       "      <td>-0.0700</td>\n",
       "      <td>-1.6400</td>\n",
       "      <td>0.6400</td>\n",
       "      <td>-0.8600</td>\n",
       "      <td>0.6700</td>\n",
       "    </tr>\n",
       "    <tr>\n",
       "      <th>1926-10</th>\n",
       "      <td>-3.3200</td>\n",
       "      <td>-3.5200</td>\n",
       "      <td>-3.0600</td>\n",
       "      <td>-3.2900</td>\n",
       "      <td>-4.1000</td>\n",
       "      <td>-2.8900</td>\n",
       "      <td>-3.3600</td>\n",
       "      <td>-2.9500</td>\n",
       "      <td>-4.8400</td>\n",
       "      <td>-1.7700</td>\n",
       "      <td>-3.3600</td>\n",
       "      <td>-4.8300</td>\n",
       "      <td>-2.9800</td>\n",
       "      <td>-2.8000</td>\n",
       "      <td>-3.4500</td>\n",
       "      <td>-3.2700</td>\n",
       "      <td>-3.4700</td>\n",
       "      <td>-2.4300</td>\n",
       "    </tr>\n",
       "    <tr>\n",
       "      <th>1926-11</th>\n",
       "      <td>-0.4600</td>\n",
       "      <td>3.8200</td>\n",
       "      <td>3.0900</td>\n",
       "      <td>-0.5500</td>\n",
       "      <td>2.1800</td>\n",
       "      <td>3.4100</td>\n",
       "      <td>3.3900</td>\n",
       "      <td>3.1600</td>\n",
       "      <td>-0.7800</td>\n",
       "      <td>-0.3200</td>\n",
       "      <td>-0.2900</td>\n",
       "      <td>4.6500</td>\n",
       "      <td>3.2400</td>\n",
       "      <td>3.5700</td>\n",
       "      <td>3.8200</td>\n",
       "      <td>2.9500</td>\n",
       "      <td>3.6100</td>\n",
       "      <td>2.7000</td>\n",
       "    </tr>\n",
       "  </tbody>\n",
       "</table>\n",
       "</div>"
      ],
      "text/plain": [
       "          Lo 30  Med 40   Hi 30   Lo 20   Qnt 2   Qnt 3   Qnt 4   Hi 20  \\\n",
       "1926-07 -0.4300  1.5200  2.6800 -0.5700  0.5900  1.6000  1.4700  3.3300   \n",
       "1926-08  3.9000  3.0400  2.0900  3.8400  3.5900  3.7100  1.6100  2.3300   \n",
       "1926-09 -1.0800 -0.5400  0.1600 -0.4800 -1.4000  0.0000 -0.5000 -0.0900   \n",
       "1926-10 -3.3200 -3.5200 -3.0600 -3.2900 -4.1000 -2.8900 -3.3600 -2.9500   \n",
       "1926-11 -0.4600  3.8200  3.0900 -0.5500  2.1800  3.4100  3.3900  3.1600   \n",
       "\n",
       "         SmallCap   Dec 2   Dec 3   Dec 4   Dec 5   Dec 6   Dec 7   Dec 8  \\\n",
       "1926-07   -1.4500  0.2900 -0.1500  1.3300  1.2400  1.9800  1.5500  1.3800   \n",
       "1926-08    5.1200  2.5900  4.0300  3.1500  2.7200  4.7200  1.6000  1.6300   \n",
       "1926-09    0.9300 -1.8700 -2.2700 -0.5300  0.0700 -0.0700 -1.6400  0.6400   \n",
       "1926-10   -4.8400 -1.7700 -3.3600 -4.8300 -2.9800 -2.8000 -3.4500 -3.2700   \n",
       "1926-11   -0.7800 -0.3200 -0.2900  4.6500  3.2400  3.5700  3.8200  2.9500   \n",
       "\n",
       "          Dec 9  LargeCap  \n",
       "1926-07  3.3800    3.2900  \n",
       "1926-08  0.9800    3.7000  \n",
       "1926-09 -0.8600    0.6700  \n",
       "1926-10 -3.4700   -2.4300  \n",
       "1926-11  3.6100    2.7000  "
      ]
     },
     "execution_count": 9,
     "metadata": {},
     "output_type": "execute_result"
    }
   ],
   "source": [
    "returns.head()"
   ]
  },
  {
   "cell_type": "code",
   "execution_count": 10,
   "id": "a9a95acd",
   "metadata": {},
   "outputs": [],
   "source": [
    "returns=returns/100"
   ]
  },
  {
   "cell_type": "code",
   "execution_count": 11,
   "id": "99b6d942",
   "metadata": {},
   "outputs": [
    {
     "data": {
      "text/html": [
       "<div>\n",
       "<style scoped>\n",
       "    .dataframe tbody tr th:only-of-type {\n",
       "        vertical-align: middle;\n",
       "    }\n",
       "\n",
       "    .dataframe tbody tr th {\n",
       "        vertical-align: top;\n",
       "    }\n",
       "\n",
       "    .dataframe thead th {\n",
       "        text-align: right;\n",
       "    }\n",
       "</style>\n",
       "<table border=\"1\" class=\"dataframe\">\n",
       "  <thead>\n",
       "    <tr style=\"text-align: right;\">\n",
       "      <th></th>\n",
       "      <th>Lo 30</th>\n",
       "      <th>Med 40</th>\n",
       "      <th>Hi 30</th>\n",
       "      <th>Lo 20</th>\n",
       "      <th>Qnt 2</th>\n",
       "      <th>Qnt 3</th>\n",
       "      <th>Qnt 4</th>\n",
       "      <th>Hi 20</th>\n",
       "      <th>SmallCap</th>\n",
       "      <th>Dec 2</th>\n",
       "      <th>Dec 3</th>\n",
       "      <th>Dec 4</th>\n",
       "      <th>Dec 5</th>\n",
       "      <th>Dec 6</th>\n",
       "      <th>Dec 7</th>\n",
       "      <th>Dec 8</th>\n",
       "      <th>Dec 9</th>\n",
       "      <th>LargeCap</th>\n",
       "    </tr>\n",
       "  </thead>\n",
       "  <tbody>\n",
       "    <tr>\n",
       "      <th>1926-07</th>\n",
       "      <td>-0.0043</td>\n",
       "      <td>0.0152</td>\n",
       "      <td>0.0268</td>\n",
       "      <td>-0.0057</td>\n",
       "      <td>0.0059</td>\n",
       "      <td>0.0160</td>\n",
       "      <td>0.0147</td>\n",
       "      <td>0.0333</td>\n",
       "      <td>-0.0145</td>\n",
       "      <td>0.0029</td>\n",
       "      <td>-0.0015</td>\n",
       "      <td>0.0133</td>\n",
       "      <td>0.0124</td>\n",
       "      <td>0.0198</td>\n",
       "      <td>0.0155</td>\n",
       "      <td>0.0138</td>\n",
       "      <td>0.0338</td>\n",
       "      <td>0.0329</td>\n",
       "    </tr>\n",
       "    <tr>\n",
       "      <th>1926-08</th>\n",
       "      <td>0.0390</td>\n",
       "      <td>0.0304</td>\n",
       "      <td>0.0209</td>\n",
       "      <td>0.0384</td>\n",
       "      <td>0.0359</td>\n",
       "      <td>0.0371</td>\n",
       "      <td>0.0161</td>\n",
       "      <td>0.0233</td>\n",
       "      <td>0.0512</td>\n",
       "      <td>0.0259</td>\n",
       "      <td>0.0403</td>\n",
       "      <td>0.0315</td>\n",
       "      <td>0.0272</td>\n",
       "      <td>0.0472</td>\n",
       "      <td>0.0160</td>\n",
       "      <td>0.0163</td>\n",
       "      <td>0.0098</td>\n",
       "      <td>0.0370</td>\n",
       "    </tr>\n",
       "    <tr>\n",
       "      <th>1926-09</th>\n",
       "      <td>-0.0108</td>\n",
       "      <td>-0.0054</td>\n",
       "      <td>0.0016</td>\n",
       "      <td>-0.0048</td>\n",
       "      <td>-0.0140</td>\n",
       "      <td>0.0000</td>\n",
       "      <td>-0.0050</td>\n",
       "      <td>-0.0009</td>\n",
       "      <td>0.0093</td>\n",
       "      <td>-0.0187</td>\n",
       "      <td>-0.0227</td>\n",
       "      <td>-0.0053</td>\n",
       "      <td>0.0007</td>\n",
       "      <td>-0.0007</td>\n",
       "      <td>-0.0164</td>\n",
       "      <td>0.0064</td>\n",
       "      <td>-0.0086</td>\n",
       "      <td>0.0067</td>\n",
       "    </tr>\n",
       "    <tr>\n",
       "      <th>1926-10</th>\n",
       "      <td>-0.0332</td>\n",
       "      <td>-0.0352</td>\n",
       "      <td>-0.0306</td>\n",
       "      <td>-0.0329</td>\n",
       "      <td>-0.0410</td>\n",
       "      <td>-0.0289</td>\n",
       "      <td>-0.0336</td>\n",
       "      <td>-0.0295</td>\n",
       "      <td>-0.0484</td>\n",
       "      <td>-0.0177</td>\n",
       "      <td>-0.0336</td>\n",
       "      <td>-0.0483</td>\n",
       "      <td>-0.0298</td>\n",
       "      <td>-0.0280</td>\n",
       "      <td>-0.0345</td>\n",
       "      <td>-0.0327</td>\n",
       "      <td>-0.0347</td>\n",
       "      <td>-0.0243</td>\n",
       "    </tr>\n",
       "    <tr>\n",
       "      <th>1926-11</th>\n",
       "      <td>-0.0046</td>\n",
       "      <td>0.0382</td>\n",
       "      <td>0.0309</td>\n",
       "      <td>-0.0055</td>\n",
       "      <td>0.0218</td>\n",
       "      <td>0.0341</td>\n",
       "      <td>0.0339</td>\n",
       "      <td>0.0316</td>\n",
       "      <td>-0.0078</td>\n",
       "      <td>-0.0032</td>\n",
       "      <td>-0.0029</td>\n",
       "      <td>0.0465</td>\n",
       "      <td>0.0324</td>\n",
       "      <td>0.0357</td>\n",
       "      <td>0.0382</td>\n",
       "      <td>0.0295</td>\n",
       "      <td>0.0361</td>\n",
       "      <td>0.0270</td>\n",
       "    </tr>\n",
       "  </tbody>\n",
       "</table>\n",
       "</div>"
      ],
      "text/plain": [
       "          Lo 30  Med 40   Hi 30   Lo 20   Qnt 2   Qnt 3   Qnt 4   Hi 20  \\\n",
       "1926-07 -0.0043  0.0152  0.0268 -0.0057  0.0059  0.0160  0.0147  0.0333   \n",
       "1926-08  0.0390  0.0304  0.0209  0.0384  0.0359  0.0371  0.0161  0.0233   \n",
       "1926-09 -0.0108 -0.0054  0.0016 -0.0048 -0.0140  0.0000 -0.0050 -0.0009   \n",
       "1926-10 -0.0332 -0.0352 -0.0306 -0.0329 -0.0410 -0.0289 -0.0336 -0.0295   \n",
       "1926-11 -0.0046  0.0382  0.0309 -0.0055  0.0218  0.0341  0.0339  0.0316   \n",
       "\n",
       "         SmallCap   Dec 2   Dec 3   Dec 4   Dec 5   Dec 6   Dec 7   Dec 8  \\\n",
       "1926-07   -0.0145  0.0029 -0.0015  0.0133  0.0124  0.0198  0.0155  0.0138   \n",
       "1926-08    0.0512  0.0259  0.0403  0.0315  0.0272  0.0472  0.0160  0.0163   \n",
       "1926-09    0.0093 -0.0187 -0.0227 -0.0053  0.0007 -0.0007 -0.0164  0.0064   \n",
       "1926-10   -0.0484 -0.0177 -0.0336 -0.0483 -0.0298 -0.0280 -0.0345 -0.0327   \n",
       "1926-11   -0.0078 -0.0032 -0.0029  0.0465  0.0324  0.0357  0.0382  0.0295   \n",
       "\n",
       "          Dec 9  LargeCap  \n",
       "1926-07  0.0338    0.0329  \n",
       "1926-08  0.0098    0.0370  \n",
       "1926-09 -0.0086    0.0067  \n",
       "1926-10 -0.0347   -0.0243  \n",
       "1926-11  0.0361    0.0270  "
      ]
     },
     "execution_count": 11,
     "metadata": {},
     "output_type": "execute_result"
    }
   ],
   "source": [
    "returns.head()"
   ]
  },
  {
   "cell_type": "markdown",
   "id": "10bbe051",
   "metadata": {},
   "source": [
    "## Generalized Statistical view"
   ]
  },
  {
   "cell_type": "code",
   "execution_count": 12,
   "id": "c7c70ba1",
   "metadata": {},
   "outputs": [
    {
     "data": {
      "text/html": [
       "<div>\n",
       "<style scoped>\n",
       "    .dataframe tbody tr th:only-of-type {\n",
       "        vertical-align: middle;\n",
       "    }\n",
       "\n",
       "    .dataframe tbody tr th {\n",
       "        vertical-align: top;\n",
       "    }\n",
       "\n",
       "    .dataframe thead th {\n",
       "        text-align: right;\n",
       "    }\n",
       "</style>\n",
       "<table border=\"1\" class=\"dataframe\">\n",
       "  <thead>\n",
       "    <tr style=\"text-align: right;\">\n",
       "      <th></th>\n",
       "      <th>count</th>\n",
       "      <th>mean</th>\n",
       "      <th>std</th>\n",
       "      <th>min</th>\n",
       "      <th>25%</th>\n",
       "      <th>50%</th>\n",
       "      <th>75%</th>\n",
       "      <th>max</th>\n",
       "    </tr>\n",
       "  </thead>\n",
       "  <tbody>\n",
       "    <tr>\n",
       "      <th>Lo 30</th>\n",
       "      <td>1110.0000</td>\n",
       "      <td>0.0150</td>\n",
       "      <td>0.0912</td>\n",
       "      <td>-0.3099</td>\n",
       "      <td>-0.0256</td>\n",
       "      <td>0.0126</td>\n",
       "      <td>0.0472</td>\n",
       "      <td>1.0037</td>\n",
       "    </tr>\n",
       "    <tr>\n",
       "      <th>Med 40</th>\n",
       "      <td>1110.0000</td>\n",
       "      <td>0.0115</td>\n",
       "      <td>0.0707</td>\n",
       "      <td>-0.3099</td>\n",
       "      <td>-0.0204</td>\n",
       "      <td>0.0146</td>\n",
       "      <td>0.0465</td>\n",
       "      <td>0.5840</td>\n",
       "    </tr>\n",
       "    <tr>\n",
       "      <th>Hi 30</th>\n",
       "      <td>1110.0000</td>\n",
       "      <td>0.0098</td>\n",
       "      <td>0.0582</td>\n",
       "      <td>-0.3051</td>\n",
       "      <td>-0.0198</td>\n",
       "      <td>0.0131</td>\n",
       "      <td>0.0396</td>\n",
       "      <td>0.4424</td>\n",
       "    </tr>\n",
       "    <tr>\n",
       "      <th>Lo 20</th>\n",
       "      <td>1110.0000</td>\n",
       "      <td>0.0159</td>\n",
       "      <td>0.0972</td>\n",
       "      <td>-0.3099</td>\n",
       "      <td>-0.0270</td>\n",
       "      <td>0.0119</td>\n",
       "      <td>0.0483</td>\n",
       "      <td>1.1260</td>\n",
       "    </tr>\n",
       "    <tr>\n",
       "      <th>Qnt 2</th>\n",
       "      <td>1110.0000</td>\n",
       "      <td>0.0124</td>\n",
       "      <td>0.0793</td>\n",
       "      <td>-0.3147</td>\n",
       "      <td>-0.0239</td>\n",
       "      <td>0.0147</td>\n",
       "      <td>0.0472</td>\n",
       "      <td>0.8164</td>\n",
       "    </tr>\n",
       "    <tr>\n",
       "      <th>Qnt 3</th>\n",
       "      <td>1110.0000</td>\n",
       "      <td>0.0116</td>\n",
       "      <td>0.0705</td>\n",
       "      <td>-0.3213</td>\n",
       "      <td>-0.0217</td>\n",
       "      <td>0.0151</td>\n",
       "      <td>0.0477</td>\n",
       "      <td>0.5653</td>\n",
       "    </tr>\n",
       "    <tr>\n",
       "      <th>Qnt 4</th>\n",
       "      <td>1110.0000</td>\n",
       "      <td>0.0107</td>\n",
       "      <td>0.0639</td>\n",
       "      <td>-0.2931</td>\n",
       "      <td>-0.0201</td>\n",
       "      <td>0.0146</td>\n",
       "      <td>0.0434</td>\n",
       "      <td>0.5064</td>\n",
       "    </tr>\n",
       "    <tr>\n",
       "      <th>Hi 20</th>\n",
       "      <td>1110.0000</td>\n",
       "      <td>0.0094</td>\n",
       "      <td>0.0563</td>\n",
       "      <td>-0.3040</td>\n",
       "      <td>-0.0192</td>\n",
       "      <td>0.0123</td>\n",
       "      <td>0.0384</td>\n",
       "      <td>0.4163</td>\n",
       "    </tr>\n",
       "    <tr>\n",
       "      <th>SmallCap</th>\n",
       "      <td>1110.0000</td>\n",
       "      <td>0.0176</td>\n",
       "      <td>0.1063</td>\n",
       "      <td>-0.2914</td>\n",
       "      <td>-0.0273</td>\n",
       "      <td>0.0105</td>\n",
       "      <td>0.0499</td>\n",
       "      <td>1.3429</td>\n",
       "    </tr>\n",
       "    <tr>\n",
       "      <th>Dec 2</th>\n",
       "      <td>1110.0000</td>\n",
       "      <td>0.0134</td>\n",
       "      <td>0.0912</td>\n",
       "      <td>-0.3302</td>\n",
       "      <td>-0.0273</td>\n",
       "      <td>0.0118</td>\n",
       "      <td>0.0503</td>\n",
       "      <td>1.0616</td>\n",
       "    </tr>\n",
       "    <tr>\n",
       "      <th>Dec 3</th>\n",
       "      <td>1110.0000</td>\n",
       "      <td>0.0127</td>\n",
       "      <td>0.0819</td>\n",
       "      <td>-0.3117</td>\n",
       "      <td>-0.0250</td>\n",
       "      <td>0.0140</td>\n",
       "      <td>0.0474</td>\n",
       "      <td>0.8308</td>\n",
       "    </tr>\n",
       "    <tr>\n",
       "      <th>Dec 4</th>\n",
       "      <td>1110.0000</td>\n",
       "      <td>0.0121</td>\n",
       "      <td>0.0772</td>\n",
       "      <td>-0.3177</td>\n",
       "      <td>-0.0235</td>\n",
       "      <td>0.0143</td>\n",
       "      <td>0.0478</td>\n",
       "      <td>0.8021</td>\n",
       "    </tr>\n",
       "    <tr>\n",
       "      <th>Dec 5</th>\n",
       "      <td>1110.0000</td>\n",
       "      <td>0.0115</td>\n",
       "      <td>0.0721</td>\n",
       "      <td>-0.3144</td>\n",
       "      <td>-0.0228</td>\n",
       "      <td>0.0149</td>\n",
       "      <td>0.0468</td>\n",
       "      <td>0.5800</td>\n",
       "    </tr>\n",
       "    <tr>\n",
       "      <th>Dec 6</th>\n",
       "      <td>1110.0000</td>\n",
       "      <td>0.0117</td>\n",
       "      <td>0.0693</td>\n",
       "      <td>-0.3283</td>\n",
       "      <td>-0.0214</td>\n",
       "      <td>0.0144</td>\n",
       "      <td>0.0458</td>\n",
       "      <td>0.5718</td>\n",
       "    </tr>\n",
       "    <tr>\n",
       "      <th>Dec 7</th>\n",
       "      <td>1110.0000</td>\n",
       "      <td>0.0108</td>\n",
       "      <td>0.0659</td>\n",
       "      <td>-0.2911</td>\n",
       "      <td>-0.0201</td>\n",
       "      <td>0.0133</td>\n",
       "      <td>0.0437</td>\n",
       "      <td>0.5190</td>\n",
       "    </tr>\n",
       "    <tr>\n",
       "      <th>Dec 8</th>\n",
       "      <td>1110.0000</td>\n",
       "      <td>0.0106</td>\n",
       "      <td>0.0626</td>\n",
       "      <td>-0.3073</td>\n",
       "      <td>-0.0207</td>\n",
       "      <td>0.0148</td>\n",
       "      <td>0.0428</td>\n",
       "      <td>0.4946</td>\n",
       "    </tr>\n",
       "    <tr>\n",
       "      <th>Dec 9</th>\n",
       "      <td>1110.0000</td>\n",
       "      <td>0.0100</td>\n",
       "      <td>0.0595</td>\n",
       "      <td>-0.3231</td>\n",
       "      <td>-0.0198</td>\n",
       "      <td>0.0137</td>\n",
       "      <td>0.0397</td>\n",
       "      <td>0.4753</td>\n",
       "    </tr>\n",
       "    <tr>\n",
       "      <th>LargeCap</th>\n",
       "      <td>1110.0000</td>\n",
       "      <td>0.0089</td>\n",
       "      <td>0.0539</td>\n",
       "      <td>-0.2843</td>\n",
       "      <td>-0.0170</td>\n",
       "      <td>0.0114</td>\n",
       "      <td>0.0376</td>\n",
       "      <td>0.3779</td>\n",
       "    </tr>\n",
       "  </tbody>\n",
       "</table>\n",
       "</div>"
      ],
      "text/plain": [
       "             count   mean    std     min     25%    50%    75%    max\n",
       "Lo 30    1110.0000 0.0150 0.0912 -0.3099 -0.0256 0.0126 0.0472 1.0037\n",
       "Med 40   1110.0000 0.0115 0.0707 -0.3099 -0.0204 0.0146 0.0465 0.5840\n",
       "Hi 30    1110.0000 0.0098 0.0582 -0.3051 -0.0198 0.0131 0.0396 0.4424\n",
       "Lo 20    1110.0000 0.0159 0.0972 -0.3099 -0.0270 0.0119 0.0483 1.1260\n",
       "Qnt 2    1110.0000 0.0124 0.0793 -0.3147 -0.0239 0.0147 0.0472 0.8164\n",
       "Qnt 3    1110.0000 0.0116 0.0705 -0.3213 -0.0217 0.0151 0.0477 0.5653\n",
       "Qnt 4    1110.0000 0.0107 0.0639 -0.2931 -0.0201 0.0146 0.0434 0.5064\n",
       "Hi 20    1110.0000 0.0094 0.0563 -0.3040 -0.0192 0.0123 0.0384 0.4163\n",
       "SmallCap 1110.0000 0.0176 0.1063 -0.2914 -0.0273 0.0105 0.0499 1.3429\n",
       "Dec 2    1110.0000 0.0134 0.0912 -0.3302 -0.0273 0.0118 0.0503 1.0616\n",
       "Dec 3    1110.0000 0.0127 0.0819 -0.3117 -0.0250 0.0140 0.0474 0.8308\n",
       "Dec 4    1110.0000 0.0121 0.0772 -0.3177 -0.0235 0.0143 0.0478 0.8021\n",
       "Dec 5    1110.0000 0.0115 0.0721 -0.3144 -0.0228 0.0149 0.0468 0.5800\n",
       "Dec 6    1110.0000 0.0117 0.0693 -0.3283 -0.0214 0.0144 0.0458 0.5718\n",
       "Dec 7    1110.0000 0.0108 0.0659 -0.2911 -0.0201 0.0133 0.0437 0.5190\n",
       "Dec 8    1110.0000 0.0106 0.0626 -0.3073 -0.0207 0.0148 0.0428 0.4946\n",
       "Dec 9    1110.0000 0.0100 0.0595 -0.3231 -0.0198 0.0137 0.0397 0.4753\n",
       "LargeCap 1110.0000 0.0089 0.0539 -0.2843 -0.0170 0.0114 0.0376 0.3779"
      ]
     },
     "execution_count": 12,
     "metadata": {},
     "output_type": "execute_result"
    }
   ],
   "source": [
    "returns.describe().transpose()"
   ]
  },
  {
   "cell_type": "markdown",
   "id": "dd8f12c9",
   "metadata": {},
   "source": [
    "## Calculating Sharpe Ratio"
   ]
  },
  {
   "cell_type": "code",
   "execution_count": 13,
   "id": "bd419b44",
   "metadata": {},
   "outputs": [
    {
     "data": {
      "text/html": [
       "<div>\n",
       "<style scoped>\n",
       "    .dataframe tbody tr th:only-of-type {\n",
       "        vertical-align: middle;\n",
       "    }\n",
       "\n",
       "    .dataframe tbody tr th {\n",
       "        vertical-align: top;\n",
       "    }\n",
       "\n",
       "    .dataframe thead th {\n",
       "        text-align: right;\n",
       "    }\n",
       "</style>\n",
       "<table border=\"1\" class=\"dataframe\">\n",
       "  <thead>\n",
       "    <tr style=\"text-align: right;\">\n",
       "      <th></th>\n",
       "      <th>Annualized Returns</th>\n",
       "      <th>Annualized Volatility</th>\n",
       "      <th>Sharpe Ratio</th>\n",
       "    </tr>\n",
       "  </thead>\n",
       "  <tbody>\n",
       "    <tr>\n",
       "      <th>Lo 30</th>\n",
       "      <td>0.1442</td>\n",
       "      <td>0.3160</td>\n",
       "      <td>0.3615</td>\n",
       "    </tr>\n",
       "    <tr>\n",
       "      <th>Med 40</th>\n",
       "      <td>0.1148</td>\n",
       "      <td>0.2448</td>\n",
       "      <td>0.3464</td>\n",
       "    </tr>\n",
       "    <tr>\n",
       "      <th>Hi 30</th>\n",
       "      <td>0.1023</td>\n",
       "      <td>0.2015</td>\n",
       "      <td>0.3588</td>\n",
       "    </tr>\n",
       "    <tr>\n",
       "      <th>Lo 20</th>\n",
       "      <td>0.1520</td>\n",
       "      <td>0.3367</td>\n",
       "      <td>0.3623</td>\n",
       "    </tr>\n",
       "    <tr>\n",
       "      <th>Qnt 2</th>\n",
       "      <td>0.1197</td>\n",
       "      <td>0.2747</td>\n",
       "      <td>0.3267</td>\n",
       "    </tr>\n",
       "    <tr>\n",
       "      <th>Qnt 3</th>\n",
       "      <td>0.1156</td>\n",
       "      <td>0.2442</td>\n",
       "      <td>0.3506</td>\n",
       "    </tr>\n",
       "    <tr>\n",
       "      <th>Qnt 4</th>\n",
       "      <td>0.1095</td>\n",
       "      <td>0.2215</td>\n",
       "      <td>0.3589</td>\n",
       "    </tr>\n",
       "    <tr>\n",
       "      <th>Hi 20</th>\n",
       "      <td>0.0985</td>\n",
       "      <td>0.1951</td>\n",
       "      <td>0.3510</td>\n",
       "    </tr>\n",
       "    <tr>\n",
       "      <th>SmallCap</th>\n",
       "      <td>0.1675</td>\n",
       "      <td>0.3682</td>\n",
       "      <td>0.3733</td>\n",
       "    </tr>\n",
       "    <tr>\n",
       "      <th>Dec 2</th>\n",
       "      <td>0.1225</td>\n",
       "      <td>0.3158</td>\n",
       "      <td>0.2928</td>\n",
       "    </tr>\n",
       "    <tr>\n",
       "      <th>Dec 3</th>\n",
       "      <td>0.1210</td>\n",
       "      <td>0.2838</td>\n",
       "      <td>0.3207</td>\n",
       "    </tr>\n",
       "    <tr>\n",
       "      <th>Dec 4</th>\n",
       "      <td>0.1176</td>\n",
       "      <td>0.2675</td>\n",
       "      <td>0.3276</td>\n",
       "    </tr>\n",
       "    <tr>\n",
       "      <th>Dec 5</th>\n",
       "      <td>0.1127</td>\n",
       "      <td>0.2498</td>\n",
       "      <td>0.3310</td>\n",
       "    </tr>\n",
       "    <tr>\n",
       "      <th>Dec 6</th>\n",
       "      <td>0.1179</td>\n",
       "      <td>0.2402</td>\n",
       "      <td>0.3661</td>\n",
       "    </tr>\n",
       "    <tr>\n",
       "      <th>Dec 7</th>\n",
       "      <td>0.1095</td>\n",
       "      <td>0.2284</td>\n",
       "      <td>0.3481</td>\n",
       "    </tr>\n",
       "    <tr>\n",
       "      <th>Dec 8</th>\n",
       "      <td>0.1088</td>\n",
       "      <td>0.2169</td>\n",
       "      <td>0.3632</td>\n",
       "    </tr>\n",
       "    <tr>\n",
       "      <th>Dec 9</th>\n",
       "      <td>0.1033</td>\n",
       "      <td>0.2062</td>\n",
       "      <td>0.3556</td>\n",
       "    </tr>\n",
       "    <tr>\n",
       "      <th>LargeCap</th>\n",
       "      <td>0.0928</td>\n",
       "      <td>0.1867</td>\n",
       "      <td>0.3364</td>\n",
       "    </tr>\n",
       "  </tbody>\n",
       "</table>\n",
       "</div>"
      ],
      "text/plain": [
       "          Annualized Returns  Annualized Volatility  Sharpe Ratio\n",
       "Lo 30                 0.1442                 0.3160        0.3615\n",
       "Med 40                0.1148                 0.2448        0.3464\n",
       "Hi 30                 0.1023                 0.2015        0.3588\n",
       "Lo 20                 0.1520                 0.3367        0.3623\n",
       "Qnt 2                 0.1197                 0.2747        0.3267\n",
       "Qnt 3                 0.1156                 0.2442        0.3506\n",
       "Qnt 4                 0.1095                 0.2215        0.3589\n",
       "Hi 20                 0.0985                 0.1951        0.3510\n",
       "SmallCap              0.1675                 0.3682        0.3733\n",
       "Dec 2                 0.1225                 0.3158        0.2928\n",
       "Dec 3                 0.1210                 0.2838        0.3207\n",
       "Dec 4                 0.1176                 0.2675        0.3276\n",
       "Dec 5                 0.1127                 0.2498        0.3310\n",
       "Dec 6                 0.1179                 0.2402        0.3661\n",
       "Dec 7                 0.1095                 0.2284        0.3481\n",
       "Dec 8                 0.1088                 0.2169        0.3632\n",
       "Dec 9                 0.1033                 0.2062        0.3556\n",
       "LargeCap              0.0928                 0.1867        0.3364"
      ]
     },
     "execution_count": 13,
     "metadata": {},
     "output_type": "execute_result"
    }
   ],
   "source": [
    "rk.sharpe_ratio(returns)"
   ]
  },
  {
   "cell_type": "markdown",
   "id": "2ad1a75c",
   "metadata": {},
   "source": [
    "## Calculating Max Drawdowns"
   ]
  },
  {
   "cell_type": "code",
   "execution_count": 14,
   "id": "8cf53fff",
   "metadata": {},
   "outputs": [
    {
     "data": {
      "text/html": [
       "<div>\n",
       "<style scoped>\n",
       "    .dataframe tbody tr th:only-of-type {\n",
       "        vertical-align: middle;\n",
       "    }\n",
       "\n",
       "    .dataframe tbody tr th {\n",
       "        vertical-align: top;\n",
       "    }\n",
       "\n",
       "    .dataframe thead th {\n",
       "        text-align: right;\n",
       "    }\n",
       "</style>\n",
       "<table border=\"1\" class=\"dataframe\">\n",
       "  <thead>\n",
       "    <tr style=\"text-align: right;\">\n",
       "      <th></th>\n",
       "      <th>Wealth Index</th>\n",
       "      <th>Last Peak</th>\n",
       "      <th>Drawdown</th>\n",
       "    </tr>\n",
       "  </thead>\n",
       "  <tbody>\n",
       "    <tr>\n",
       "      <th>1926-07</th>\n",
       "      <td>1032.9000</td>\n",
       "      <td>1032.9000</td>\n",
       "      <td>0.0000</td>\n",
       "    </tr>\n",
       "    <tr>\n",
       "      <th>1926-08</th>\n",
       "      <td>1071.1173</td>\n",
       "      <td>1071.1173</td>\n",
       "      <td>0.0000</td>\n",
       "    </tr>\n",
       "    <tr>\n",
       "      <th>1926-09</th>\n",
       "      <td>1078.2938</td>\n",
       "      <td>1078.2938</td>\n",
       "      <td>0.0000</td>\n",
       "    </tr>\n",
       "    <tr>\n",
       "      <th>1926-10</th>\n",
       "      <td>1052.0912</td>\n",
       "      <td>1078.2938</td>\n",
       "      <td>-0.0243</td>\n",
       "    </tr>\n",
       "    <tr>\n",
       "      <th>1926-11</th>\n",
       "      <td>1080.4977</td>\n",
       "      <td>1080.4977</td>\n",
       "      <td>0.0000</td>\n",
       "    </tr>\n",
       "    <tr>\n",
       "      <th>...</th>\n",
       "      <td>...</td>\n",
       "      <td>...</td>\n",
       "      <td>...</td>\n",
       "    </tr>\n",
       "    <tr>\n",
       "      <th>2018-08</th>\n",
       "      <td>4175915.1461</td>\n",
       "      <td>4175915.1461</td>\n",
       "      <td>0.0000</td>\n",
       "    </tr>\n",
       "    <tr>\n",
       "      <th>2018-09</th>\n",
       "      <td>4212245.6079</td>\n",
       "      <td>4212245.6079</td>\n",
       "      <td>0.0000</td>\n",
       "    </tr>\n",
       "    <tr>\n",
       "      <th>2018-10</th>\n",
       "      <td>3935501.0714</td>\n",
       "      <td>4212245.6079</td>\n",
       "      <td>-0.0657</td>\n",
       "    </tr>\n",
       "    <tr>\n",
       "      <th>2018-11</th>\n",
       "      <td>4035069.2485</td>\n",
       "      <td>4212245.6079</td>\n",
       "      <td>-0.0421</td>\n",
       "    </tr>\n",
       "    <tr>\n",
       "      <th>2018-12</th>\n",
       "      <td>3675948.0854</td>\n",
       "      <td>4212245.6079</td>\n",
       "      <td>-0.1273</td>\n",
       "    </tr>\n",
       "  </tbody>\n",
       "</table>\n",
       "<p>1110 rows × 3 columns</p>\n",
       "</div>"
      ],
      "text/plain": [
       "         Wealth Index    Last Peak  Drawdown\n",
       "1926-07     1032.9000    1032.9000    0.0000\n",
       "1926-08     1071.1173    1071.1173    0.0000\n",
       "1926-09     1078.2938    1078.2938    0.0000\n",
       "1926-10     1052.0912    1078.2938   -0.0243\n",
       "1926-11     1080.4977    1080.4977    0.0000\n",
       "...               ...          ...       ...\n",
       "2018-08  4175915.1461 4175915.1461    0.0000\n",
       "2018-09  4212245.6079 4212245.6079    0.0000\n",
       "2018-10  3935501.0714 4212245.6079   -0.0657\n",
       "2018-11  4035069.2485 4212245.6079   -0.0421\n",
       "2018-12  3675948.0854 4212245.6079   -0.1273\n",
       "\n",
       "[1110 rows x 3 columns]"
      ]
     },
     "execution_count": 14,
     "metadata": {},
     "output_type": "execute_result"
    }
   ],
   "source": [
    "LCap=rk.drawdowns(returns[\"LargeCap\"],1000)\n",
    "LCap"
   ]
  },
  {
   "cell_type": "markdown",
   "id": "019feff7",
   "metadata": {},
   "source": [
    "## Plotting Different measures"
   ]
  },
  {
   "cell_type": "markdown",
   "id": "69e8d9c7",
   "metadata": {},
   "source": [
    "### Plottingg Wealth Index"
   ]
  },
  {
   "cell_type": "code",
   "execution_count": 15,
   "id": "378371ef",
   "metadata": {},
   "outputs": [
    {
     "data": {
      "text/plain": [
       "<Axes: >"
      ]
     },
     "execution_count": 15,
     "metadata": {},
     "output_type": "execute_result"
    },
    {
     "data": {
      "image/png": "[encoded data removed]",
      "text/plain": [
       "<Figure size 640x480 with 1 Axes>"
      ]
     },
     "metadata": {},
     "output_type": "display_data"
    }
   ],
   "source": [
    "LCap[\"Wealth Index\"].plot.line()"
   ]
  },
  {
   "cell_type": "markdown",
   "id": "243f8ee2",
   "metadata": {},
   "source": [
    "### Plotting Peaks"
   ]
  },
  {
   "cell_type": "code",
   "execution_count": 16,
   "id": "c0891a36",
   "metadata": {},
   "outputs": [
    {
     "data": {
      "text/plain": [
       "<Axes: >"
      ]
     },
     "execution_count": 16,
     "metadata": {},
     "output_type": "execute_result"
    },
    {
     "data": {
      "image/png": "[encoded data removed]",
      "text/plain": [
       "<Figure size 640x480 with 1 Axes>"
      ]
     },
     "metadata": {},
     "output_type": "display_data"
    }
   ],
   "source": [
    "LCap[\"Last Peak\"].plot.line()"
   ]
  },
  {
   "cell_type": "markdown",
   "id": "dc26461b",
   "metadata": {},
   "source": [
    "### Plotting normalized drawdowns"
   ]
  },
  {
   "cell_type": "code",
   "execution_count": 17,
   "id": "c5809fc7",
   "metadata": {},
   "outputs": [
    {
     "data": {
      "text/plain": [
       "<Axes: >"
      ]
     },
     "execution_count": 17,
     "metadata": {},
     "output_type": "execute_result"
    },
    {
     "data": {
      "image/png": "[encoded data removed]",
      "text/plain": [
       "<Figure size 640x480 with 1 Axes>"
      ]
     },
     "metadata": {},
     "output_type": "display_data"
    }
   ],
   "source": [
    "LCap[\"Drawdown\"].plot.line()"
   ]
  },
  {
   "cell_type": "code",
   "execution_count": 18,
   "id": "3d2496a5",
   "metadata": {},
   "outputs": [
    {
     "data": {
      "text/plain": [
       "-0.8400375277943123"
      ]
     },
     "execution_count": 18,
     "metadata": {},
     "output_type": "execute_result"
    }
   ],
   "source": [
    "LCap[\"Drawdown\"].min()"
   ]
  },
  {
   "cell_type": "code",
   "execution_count": 19,
   "id": "be056341",
   "metadata": {},
   "outputs": [
    {
     "data": {
      "text/plain": [
       "Period('1932-05', 'M')"
      ]
     },
     "execution_count": 19,
     "metadata": {},
     "output_type": "execute_result"
    }
   ],
   "source": [
    "LCap[\"Drawdown\"].idxmin()"
   ]
  },
  {
   "cell_type": "markdown",
   "id": "601128ae",
   "metadata": {},
   "source": [
    "## Deviation from Normality and other statistical measures"
   ]
  },
  {
   "cell_type": "code",
   "execution_count": 20,
   "id": "39410648",
   "metadata": {},
   "outputs": [
    {
     "data": {
      "text/html": [
       "<div>\n",
       "<style scoped>\n",
       "    .dataframe tbody tr th:only-of-type {\n",
       "        vertical-align: middle;\n",
       "    }\n",
       "\n",
       "    .dataframe tbody tr th {\n",
       "        vertical-align: top;\n",
       "    }\n",
       "\n",
       "    .dataframe thead th {\n",
       "        text-align: right;\n",
       "    }\n",
       "</style>\n",
       "<table border=\"1\" class=\"dataframe\">\n",
       "  <thead>\n",
       "    <tr style=\"text-align: right;\">\n",
       "      <th></th>\n",
       "      <th>0</th>\n",
       "      <th>1</th>\n",
       "      <th>2</th>\n",
       "    </tr>\n",
       "  </thead>\n",
       "  <tbody>\n",
       "    <tr>\n",
       "      <th>Lo 30</th>\n",
       "      <td>0.0150</td>\n",
       "      <td>0.0126</td>\n",
       "      <td>True</td>\n",
       "    </tr>\n",
       "    <tr>\n",
       "      <th>Med 40</th>\n",
       "      <td>0.0115</td>\n",
       "      <td>0.0146</td>\n",
       "      <td>False</td>\n",
       "    </tr>\n",
       "    <tr>\n",
       "      <th>Hi 30</th>\n",
       "      <td>0.0098</td>\n",
       "      <td>0.0131</td>\n",
       "      <td>False</td>\n",
       "    </tr>\n",
       "    <tr>\n",
       "      <th>Lo 20</th>\n",
       "      <td>0.0159</td>\n",
       "      <td>0.0119</td>\n",
       "      <td>True</td>\n",
       "    </tr>\n",
       "    <tr>\n",
       "      <th>Qnt 2</th>\n",
       "      <td>0.0124</td>\n",
       "      <td>0.0147</td>\n",
       "      <td>False</td>\n",
       "    </tr>\n",
       "    <tr>\n",
       "      <th>Qnt 3</th>\n",
       "      <td>0.0116</td>\n",
       "      <td>0.0151</td>\n",
       "      <td>False</td>\n",
       "    </tr>\n",
       "    <tr>\n",
       "      <th>Qnt 4</th>\n",
       "      <td>0.0107</td>\n",
       "      <td>0.0146</td>\n",
       "      <td>False</td>\n",
       "    </tr>\n",
       "    <tr>\n",
       "      <th>Hi 20</th>\n",
       "      <td>0.0094</td>\n",
       "      <td>0.0123</td>\n",
       "      <td>False</td>\n",
       "    </tr>\n",
       "    <tr>\n",
       "      <th>SmallCap</th>\n",
       "      <td>0.0176</td>\n",
       "      <td>0.0105</td>\n",
       "      <td>True</td>\n",
       "    </tr>\n",
       "    <tr>\n",
       "      <th>Dec 2</th>\n",
       "      <td>0.0134</td>\n",
       "      <td>0.0118</td>\n",
       "      <td>True</td>\n",
       "    </tr>\n",
       "    <tr>\n",
       "      <th>Dec 3</th>\n",
       "      <td>0.0127</td>\n",
       "      <td>0.0140</td>\n",
       "      <td>False</td>\n",
       "    </tr>\n",
       "    <tr>\n",
       "      <th>Dec 4</th>\n",
       "      <td>0.0121</td>\n",
       "      <td>0.0143</td>\n",
       "      <td>False</td>\n",
       "    </tr>\n",
       "    <tr>\n",
       "      <th>Dec 5</th>\n",
       "      <td>0.0115</td>\n",
       "      <td>0.0149</td>\n",
       "      <td>False</td>\n",
       "    </tr>\n",
       "    <tr>\n",
       "      <th>Dec 6</th>\n",
       "      <td>0.0117</td>\n",
       "      <td>0.0144</td>\n",
       "      <td>False</td>\n",
       "    </tr>\n",
       "    <tr>\n",
       "      <th>Dec 7</th>\n",
       "      <td>0.0108</td>\n",
       "      <td>0.0133</td>\n",
       "      <td>False</td>\n",
       "    </tr>\n",
       "    <tr>\n",
       "      <th>Dec 8</th>\n",
       "      <td>0.0106</td>\n",
       "      <td>0.0148</td>\n",
       "      <td>False</td>\n",
       "    </tr>\n",
       "    <tr>\n",
       "      <th>Dec 9</th>\n",
       "      <td>0.0100</td>\n",
       "      <td>0.0137</td>\n",
       "      <td>False</td>\n",
       "    </tr>\n",
       "    <tr>\n",
       "      <th>LargeCap</th>\n",
       "      <td>0.0089</td>\n",
       "      <td>0.0114</td>\n",
       "      <td>False</td>\n",
       "    </tr>\n",
       "  </tbody>\n",
       "</table>\n",
       "</div>"
      ],
      "text/plain": [
       "              0      1      2\n",
       "Lo 30    0.0150 0.0126   True\n",
       "Med 40   0.0115 0.0146  False\n",
       "Hi 30    0.0098 0.0131  False\n",
       "Lo 20    0.0159 0.0119   True\n",
       "Qnt 2    0.0124 0.0147  False\n",
       "Qnt 3    0.0116 0.0151  False\n",
       "Qnt 4    0.0107 0.0146  False\n",
       "Hi 20    0.0094 0.0123  False\n",
       "SmallCap 0.0176 0.0105   True\n",
       "Dec 2    0.0134 0.0118   True\n",
       "Dec 3    0.0127 0.0140  False\n",
       "Dec 4    0.0121 0.0143  False\n",
       "Dec 5    0.0115 0.0149  False\n",
       "Dec 6    0.0117 0.0144  False\n",
       "Dec 7    0.0108 0.0133  False\n",
       "Dec 8    0.0106 0.0148  False\n",
       "Dec 9    0.0100 0.0137  False\n",
       "LargeCap 0.0089 0.0114  False"
      ]
     },
     "execution_count": 20,
     "metadata": {},
     "output_type": "execute_result"
    }
   ],
   "source": [
    "pd.concat([returns.mean(),returns.median(),returns.mean()>returns.median()],axis=1)"
   ]
  },
  {
   "cell_type": "markdown",
   "id": "7a96fd59",
   "metadata": {},
   "source": [
    "### Measuring Skewness and kurtosis by manually created methods alternatively we could have used scipy stats"
   ]
  },
  {
   "cell_type": "markdown",
   "id": "e3677ae1",
   "metadata": {},
   "source": [
    "### Calculating Skewness"
   ]
  },
  {
   "cell_type": "code",
   "execution_count": 21,
   "id": "c03d9a75",
   "metadata": {},
   "outputs": [
    {
     "data": {
      "text/plain": [
       "Lo 30      3.0868\n",
       "Med 40     1.1153\n",
       "Hi 30      0.4564\n",
       "Lo 20      3.6298\n",
       "Qnt 2      1.9291\n",
       "Qnt 3      0.9556\n",
       "Qnt 4      0.6829\n",
       "Hi 20      0.3455\n",
       "SmallCap   4.4107\n",
       "Dec 2      2.8404\n",
       "Dec 3      1.9519\n",
       "Dec 4      1.8798\n",
       "Dec 5      0.9186\n",
       "Dec 6      1.0356\n",
       "Dec 7      0.7407\n",
       "Dec 8      0.6724\n",
       "Dec 9      0.4603\n",
       "LargeCap   0.2334\n",
       "dtype: float64"
      ]
     },
     "execution_count": 21,
     "metadata": {},
     "output_type": "execute_result"
    }
   ],
   "source": [
    "rk.magic_moments(returns,moment=3)"
   ]
  },
  {
   "cell_type": "markdown",
   "id": "7a5f9559",
   "metadata": {},
   "source": [
    "### Measuring Kurtosis"
   ]
  },
  {
   "cell_type": "code",
   "execution_count": 22,
   "id": "ab3a0651",
   "metadata": {},
   "outputs": [
    {
     "data": {
      "text/plain": [
       "Lo 30      32.7451\n",
       "Med 40     15.4676\n",
       "Hi 30      12.3240\n",
       "Lo 20      38.2854\n",
       "Qnt 2      22.6732\n",
       "Qnt 3      14.2197\n",
       "Qnt 4      12.7896\n",
       "Hi 20      11.8472\n",
       "SmallCap   46.8450\n",
       "Dec 2      31.5081\n",
       "Dec 3      22.5407\n",
       "Dec 4      22.4282\n",
       "Dec 5      13.8685\n",
       "Dec 6      15.0133\n",
       "Dec 7      12.9539\n",
       "Dec 8      13.0747\n",
       "Dec 9      12.8332\n",
       "LargeCap   10.6947\n",
       "dtype: float64"
      ]
     },
     "execution_count": 22,
     "metadata": {},
     "output_type": "execute_result"
    }
   ],
   "source": [
    "rk.magic_moments(returns,moment=4)"
   ]
  },
  {
   "cell_type": "markdown",
   "id": "49cb0219",
   "metadata": {},
   "source": [
    "### We can always use scipy.stats like below"
   ]
  },
  {
   "cell_type": "code",
   "execution_count": 23,
   "id": "fb9138ee",
   "metadata": {},
   "outputs": [],
   "source": [
    "import scipy"
   ]
  },
  {
   "cell_type": "markdown",
   "id": "4090c35a",
   "metadata": {},
   "source": [
    "### Calculating Skewness"
   ]
  },
  {
   "cell_type": "code",
   "execution_count": 24,
   "id": "a3ad45b6",
   "metadata": {},
   "outputs": [
    {
     "data": {
      "text/plain": [
       "array([3.08675596, 1.11532118, 0.45642335, 3.62982892, 1.92908896,\n",
       "       0.95563123, 0.68289656, 0.34547179, 4.41073861, 2.84043943,\n",
       "       1.95186513, 1.87975085, 0.91859281, 1.0356326 , 0.74074667,\n",
       "       0.67243623, 0.46034969, 0.23344522])"
      ]
     },
     "execution_count": 24,
     "metadata": {},
     "output_type": "execute_result"
    }
   ],
   "source": [
    "scipy.stats.skew(returns)"
   ]
  },
  {
   "cell_type": "markdown",
   "id": "981e107a",
   "metadata": {},
   "source": [
    "### Calculating Kurtosis"
   ]
  },
  {
   "cell_type": "code",
   "execution_count": 25,
   "id": "16eae8d7",
   "metadata": {},
   "outputs": [
    {
     "data": {
      "text/plain": [
       "array([29.74514717, 12.4676203 ,  9.32399138, 35.28541416, 19.67317381,\n",
       "       11.21965362,  9.78957022,  8.84724321, 43.84500784, 28.5081241 ,\n",
       "       19.54067929, 19.42820563, 10.86848962, 12.01327489,  9.95394656,\n",
       "       10.07468675,  9.83321707,  7.69465394])"
      ]
     },
     "execution_count": 25,
     "metadata": {},
     "output_type": "execute_result"
    }
   ],
   "source": [
    "scipy.stats.kurtosis(returns)"
   ]
  },
  {
   "cell_type": "markdown",
   "id": "6bab1abd",
   "metadata": {},
   "source": [
    "### Testing for random normal distribution"
   ]
  },
  {
   "cell_type": "code",
   "execution_count": 26,
   "id": "72101aa3",
   "metadata": {},
   "outputs": [],
   "source": [
    "import numpy as np"
   ]
  },
  {
   "cell_type": "code",
   "execution_count": 27,
   "id": "303a7ace",
   "metadata": {},
   "outputs": [],
   "source": [
    "norm_returns=np.random.normal(0.15,size=(returns.shape[0],1))"
   ]
  },
  {
   "cell_type": "code",
   "execution_count": 28,
   "id": "610ab0f8",
   "metadata": {},
   "outputs": [
    {
     "data": {
      "text/plain": [
       "array([[ 0.0289602 ],\n",
       "       [-0.58765397],\n",
       "       [-0.34779984],\n",
       "       ...,\n",
       "       [ 1.84606492],\n",
       "       [-0.60587767],\n",
       "       [-0.42443423]])"
      ]
     },
     "execution_count": 28,
     "metadata": {},
     "output_type": "execute_result"
    }
   ],
   "source": [
    "norm_returns"
   ]
  },
  {
   "cell_type": "markdown",
   "id": "cbe813bf",
   "metadata": {},
   "source": [
    "### Skewness of normal returns"
   ]
  },
  {
   "cell_type": "code",
   "execution_count": 29,
   "id": "7e414062",
   "metadata": {},
   "outputs": [
    {
     "data": {
      "text/plain": [
       "0.024716647074046368"
      ]
     },
     "execution_count": 29,
     "metadata": {},
     "output_type": "execute_result"
    }
   ],
   "source": [
    "rk.magic_moments(norm_returns,3)"
   ]
  },
  {
   "cell_type": "markdown",
   "id": "ce768f61",
   "metadata": {},
   "source": [
    "### Kurtosis of normal returns"
   ]
  },
  {
   "cell_type": "code",
   "execution_count": 30,
   "id": "ee421d19",
   "metadata": {},
   "outputs": [
    {
     "data": {
      "text/plain": [
       "2.854922932441201"
      ]
     },
     "execution_count": 30,
     "metadata": {},
     "output_type": "execute_result"
    }
   ],
   "source": [
    "rk.magic_moments(norm_returns,4)"
   ]
  },
  {
   "cell_type": "markdown",
   "id": "f7aca2f1",
   "metadata": {},
   "source": [
    "### Applying jarque-bera test to determine whether it's normal or not"
   ]
  },
  {
   "cell_type": "code",
   "execution_count": 31,
   "id": "5933eedb",
   "metadata": {},
   "outputs": [],
   "source": [
    "import scipy.stats"
   ]
  },
  {
   "cell_type": "markdown",
   "id": "d83f17ab",
   "metadata": {},
   "source": [
    "### Though p-value is low still we can say it is pretty good for a small size distribution if we think it as normal"
   ]
  },
  {
   "cell_type": "code",
   "execution_count": 32,
   "id": "bda63669",
   "metadata": {},
   "outputs": [
    {
     "data": {
      "text/plain": [
       "SignificanceResult(statistic=1.0864590322078906, pvalue=0.5808692932059407)"
      ]
     },
     "execution_count": 32,
     "metadata": {},
     "output_type": "execute_result"
    }
   ],
   "source": [
    "scipy.stats.jarque_bera(norm_returns)"
   ]
  },
  {
   "cell_type": "markdown",
   "id": "77079120",
   "metadata": {},
   "source": [
    "### Applying jarque-bera test to our indices returns"
   ]
  },
  {
   "cell_type": "code",
   "execution_count": 33,
   "id": "bbb2cddb",
   "metadata": {},
   "outputs": [
    {
     "data": {
      "text/plain": [
       "Lo 30       False\n",
       "Med 40      False\n",
       "Hi 30       False\n",
       "Lo 20       False\n",
       "Qnt 2       False\n",
       "Qnt 3       False\n",
       "Qnt 4       False\n",
       "Hi 20       False\n",
       "SmallCap    False\n",
       "Dec 2       False\n",
       "Dec 3       False\n",
       "Dec 4       False\n",
       "Dec 5       False\n",
       "Dec 6       False\n",
       "Dec 7       False\n",
       "Dec 8       False\n",
       "Dec 9       False\n",
       "LargeCap    False\n",
       "dtype: bool"
      ]
     },
     "execution_count": 33,
     "metadata": {},
     "output_type": "execute_result"
    }
   ],
   "source": [
    "returns.aggregate(rk.is_normal)"
   ]
  },
  {
   "cell_type": "markdown",
   "id": "83ee218e",
   "metadata": {},
   "source": [
    "# Analysing the Hedge Fund Dataset"
   ]
  },
  {
   "cell_type": "code",
   "execution_count": 34,
   "id": "7b46a242",
   "metadata": {},
   "outputs": [
    {
     "name": "stderr",
     "output_type": "stream",
     "text": [
      "C:\\Users\\chris\\AppData\\Local\\Temp\\ipykernel_11532\\973434481.py:1: UserWarning: Parsing dates in %d/%m/%Y format when dayfirst=False (the default) was specified. Pass `dayfirst=True` or specify a format to silence this warning.\n",
      "  hfi=pd.read_csv(\"edhec-hedgefundindices.csv\",header=0,index_col=0,parse_dates=True)\n"
     ]
    },
    {
     "data": {
      "text/html": [
       "<div>\n",
       "<style scoped>\n",
       "    .dataframe tbody tr th:only-of-type {\n",
       "        vertical-align: middle;\n",
       "    }\n",
       "\n",
       "    .dataframe tbody tr th {\n",
       "        vertical-align: top;\n",
       "    }\n",
       "\n",
       "    .dataframe thead th {\n",
       "        text-align: right;\n",
       "    }\n",
       "</style>\n",
       "<table border=\"1\" class=\"dataframe\">\n",
       "  <thead>\n",
       "    <tr style=\"text-align: right;\">\n",
       "      <th></th>\n",
       "      <th>Convertible Arbitrage</th>\n",
       "      <th>CTA Global</th>\n",
       "      <th>Distressed Securities</th>\n",
       "      <th>Emerging Markets</th>\n",
       "      <th>Equity Market Neutral</th>\n",
       "      <th>Event Driven</th>\n",
       "      <th>Fixed Income Arbitrage</th>\n",
       "      <th>Global Macro</th>\n",
       "      <th>Long/Short Equity</th>\n",
       "      <th>Merger Arbitrage</th>\n",
       "      <th>Relative Value</th>\n",
       "      <th>Short Selling</th>\n",
       "      <th>Funds Of Funds</th>\n",
       "    </tr>\n",
       "    <tr>\n",
       "      <th>date</th>\n",
       "      <th></th>\n",
       "      <th></th>\n",
       "      <th></th>\n",
       "      <th></th>\n",
       "      <th></th>\n",
       "      <th></th>\n",
       "      <th></th>\n",
       "      <th></th>\n",
       "      <th></th>\n",
       "      <th></th>\n",
       "      <th></th>\n",
       "      <th></th>\n",
       "      <th></th>\n",
       "    </tr>\n",
       "  </thead>\n",
       "  <tbody>\n",
       "    <tr>\n",
       "      <th>1997-01</th>\n",
       "      <td>0.0119</td>\n",
       "      <td>0.0393</td>\n",
       "      <td>0.0178</td>\n",
       "      <td>0.0791</td>\n",
       "      <td>0.0189</td>\n",
       "      <td>0.0213</td>\n",
       "      <td>0.0191</td>\n",
       "      <td>0.0573</td>\n",
       "      <td>0.0281</td>\n",
       "      <td>0.0150</td>\n",
       "      <td>0.0180</td>\n",
       "      <td>-0.0166</td>\n",
       "      <td>0.0317</td>\n",
       "    </tr>\n",
       "    <tr>\n",
       "      <th>1997-02</th>\n",
       "      <td>0.0123</td>\n",
       "      <td>0.0298</td>\n",
       "      <td>0.0122</td>\n",
       "      <td>0.0525</td>\n",
       "      <td>0.0101</td>\n",
       "      <td>0.0084</td>\n",
       "      <td>0.0122</td>\n",
       "      <td>0.0175</td>\n",
       "      <td>-0.0006</td>\n",
       "      <td>0.0034</td>\n",
       "      <td>0.0118</td>\n",
       "      <td>0.0426</td>\n",
       "      <td>0.0106</td>\n",
       "    </tr>\n",
       "    <tr>\n",
       "      <th>1997-03</th>\n",
       "      <td>0.0078</td>\n",
       "      <td>-0.0021</td>\n",
       "      <td>-0.0012</td>\n",
       "      <td>-0.0120</td>\n",
       "      <td>0.0016</td>\n",
       "      <td>-0.0023</td>\n",
       "      <td>0.0109</td>\n",
       "      <td>-0.0119</td>\n",
       "      <td>-0.0084</td>\n",
       "      <td>0.0060</td>\n",
       "      <td>0.0010</td>\n",
       "      <td>0.0778</td>\n",
       "      <td>-0.0077</td>\n",
       "    </tr>\n",
       "    <tr>\n",
       "      <th>1997-04</th>\n",
       "      <td>0.0086</td>\n",
       "      <td>-0.0170</td>\n",
       "      <td>0.0030</td>\n",
       "      <td>0.0119</td>\n",
       "      <td>0.0119</td>\n",
       "      <td>-0.0005</td>\n",
       "      <td>0.0130</td>\n",
       "      <td>0.0172</td>\n",
       "      <td>0.0084</td>\n",
       "      <td>-0.0001</td>\n",
       "      <td>0.0122</td>\n",
       "      <td>-0.0129</td>\n",
       "      <td>0.0009</td>\n",
       "    </tr>\n",
       "    <tr>\n",
       "      <th>1997-05</th>\n",
       "      <td>0.0156</td>\n",
       "      <td>-0.0015</td>\n",
       "      <td>0.0233</td>\n",
       "      <td>0.0315</td>\n",
       "      <td>0.0189</td>\n",
       "      <td>0.0346</td>\n",
       "      <td>0.0118</td>\n",
       "      <td>0.0108</td>\n",
       "      <td>0.0394</td>\n",
       "      <td>0.0197</td>\n",
       "      <td>0.0173</td>\n",
       "      <td>-0.0737</td>\n",
       "      <td>0.0275</td>\n",
       "    </tr>\n",
       "  </tbody>\n",
       "</table>\n",
       "</div>"
      ],
      "text/plain": [
       "         Convertible Arbitrage  CTA Global  Distressed Securities  \\\n",
       "date                                                                \n",
       "1997-01                 0.0119      0.0393                 0.0178   \n",
       "1997-02                 0.0123      0.0298                 0.0122   \n",
       "1997-03                 0.0078     -0.0021                -0.0012   \n",
       "1997-04                 0.0086     -0.0170                 0.0030   \n",
       "1997-05                 0.0156     -0.0015                 0.0233   \n",
       "\n",
       "         Emerging Markets  Equity Market Neutral  Event Driven  \\\n",
       "date                                                             \n",
       "1997-01            0.0791                 0.0189        0.0213   \n",
       "1997-02            0.0525                 0.0101        0.0084   \n",
       "1997-03           -0.0120                 0.0016       -0.0023   \n",
       "1997-04            0.0119                 0.0119       -0.0005   \n",
       "1997-05            0.0315                 0.0189        0.0346   \n",
       "\n",
       "         Fixed Income Arbitrage  Global Macro  Long/Short Equity  \\\n",
       "date                                                               \n",
       "1997-01                  0.0191        0.0573             0.0281   \n",
       "1997-02                  0.0122        0.0175            -0.0006   \n",
       "1997-03                  0.0109       -0.0119            -0.0084   \n",
       "1997-04                  0.0130        0.0172             0.0084   \n",
       "1997-05                  0.0118        0.0108             0.0394   \n",
       "\n",
       "         Merger Arbitrage  Relative Value  Short Selling  Funds Of Funds  \n",
       "date                                                                      \n",
       "1997-01            0.0150          0.0180        -0.0166          0.0317  \n",
       "1997-02            0.0034          0.0118         0.0426          0.0106  \n",
       "1997-03            0.0060          0.0010         0.0778         -0.0077  \n",
       "1997-04           -0.0001          0.0122        -0.0129          0.0009  \n",
       "1997-05            0.0197          0.0173        -0.0737          0.0275  "
      ]
     },
     "execution_count": 34,
     "metadata": {},
     "output_type": "execute_result"
    }
   ],
   "source": [
    "hfi=pd.read_csv(\"edhec-hedgefundindices.csv\",header=0,index_col=0,parse_dates=True)\n",
    "hfi.index=hfi.index.to_period(\"M\")\n",
    "hfi=hfi/100\n",
    "hfi.head()"
   ]
  },
  {
   "cell_type": "code",
   "execution_count": 35,
   "id": "296de770",
   "metadata": {},
   "outputs": [
    {
     "data": {
      "text/html": [
       "<div>\n",
       "<style scoped>\n",
       "    .dataframe tbody tr th:only-of-type {\n",
       "        vertical-align: middle;\n",
       "    }\n",
       "\n",
       "    .dataframe tbody tr th {\n",
       "        vertical-align: top;\n",
       "    }\n",
       "\n",
       "    .dataframe thead th {\n",
       "        text-align: right;\n",
       "    }\n",
       "</style>\n",
       "<table border=\"1\" class=\"dataframe\">\n",
       "  <thead>\n",
       "    <tr style=\"text-align: right;\">\n",
       "      <th></th>\n",
       "      <th>count</th>\n",
       "      <th>mean</th>\n",
       "      <th>std</th>\n",
       "      <th>min</th>\n",
       "      <th>25%</th>\n",
       "      <th>50%</th>\n",
       "      <th>75%</th>\n",
       "      <th>max</th>\n",
       "    </tr>\n",
       "  </thead>\n",
       "  <tbody>\n",
       "    <tr>\n",
       "      <th>Convertible Arbitrage</th>\n",
       "      <td>263.0000</td>\n",
       "      <td>0.0055</td>\n",
       "      <td>0.0166</td>\n",
       "      <td>-0.1237</td>\n",
       "      <td>-0.0002</td>\n",
       "      <td>0.0065</td>\n",
       "      <td>0.0136</td>\n",
       "      <td>0.0611</td>\n",
       "    </tr>\n",
       "    <tr>\n",
       "      <th>CTA Global</th>\n",
       "      <td>263.0000</td>\n",
       "      <td>0.0041</td>\n",
       "      <td>0.0233</td>\n",
       "      <td>-0.0568</td>\n",
       "      <td>-0.0120</td>\n",
       "      <td>0.0014</td>\n",
       "      <td>0.0198</td>\n",
       "      <td>0.0691</td>\n",
       "    </tr>\n",
       "    <tr>\n",
       "      <th>Distressed Securities</th>\n",
       "      <td>263.0000</td>\n",
       "      <td>0.0069</td>\n",
       "      <td>0.0170</td>\n",
       "      <td>-0.0836</td>\n",
       "      <td>-0.0015</td>\n",
       "      <td>0.0089</td>\n",
       "      <td>0.0178</td>\n",
       "      <td>0.0504</td>\n",
       "    </tr>\n",
       "    <tr>\n",
       "      <th>Emerging Markets</th>\n",
       "      <td>263.0000</td>\n",
       "      <td>0.0063</td>\n",
       "      <td>0.0325</td>\n",
       "      <td>-0.1922</td>\n",
       "      <td>-0.0097</td>\n",
       "      <td>0.0096</td>\n",
       "      <td>0.0257</td>\n",
       "      <td>0.1230</td>\n",
       "    </tr>\n",
       "    <tr>\n",
       "      <th>Equity Market Neutral</th>\n",
       "      <td>263.0000</td>\n",
       "      <td>0.0045</td>\n",
       "      <td>0.0081</td>\n",
       "      <td>-0.0587</td>\n",
       "      <td>0.0015</td>\n",
       "      <td>0.0051</td>\n",
       "      <td>0.0083</td>\n",
       "      <td>0.0253</td>\n",
       "    </tr>\n",
       "    <tr>\n",
       "      <th>Event Driven</th>\n",
       "      <td>263.0000</td>\n",
       "      <td>0.0063</td>\n",
       "      <td>0.0167</td>\n",
       "      <td>-0.0886</td>\n",
       "      <td>-0.0015</td>\n",
       "      <td>0.0084</td>\n",
       "      <td>0.0162</td>\n",
       "      <td>0.0442</td>\n",
       "    </tr>\n",
       "    <tr>\n",
       "      <th>Fixed Income Arbitrage</th>\n",
       "      <td>263.0000</td>\n",
       "      <td>0.0044</td>\n",
       "      <td>0.0115</td>\n",
       "      <td>-0.0867</td>\n",
       "      <td>0.0016</td>\n",
       "      <td>0.0055</td>\n",
       "      <td>0.0095</td>\n",
       "      <td>0.0365</td>\n",
       "    </tr>\n",
       "    <tr>\n",
       "      <th>Global Macro</th>\n",
       "      <td>263.0000</td>\n",
       "      <td>0.0054</td>\n",
       "      <td>0.0147</td>\n",
       "      <td>-0.0313</td>\n",
       "      <td>-0.0040</td>\n",
       "      <td>0.0038</td>\n",
       "      <td>0.0124</td>\n",
       "      <td>0.0738</td>\n",
       "    </tr>\n",
       "    <tr>\n",
       "      <th>Long/Short Equity</th>\n",
       "      <td>263.0000</td>\n",
       "      <td>0.0063</td>\n",
       "      <td>0.0199</td>\n",
       "      <td>-0.0675</td>\n",
       "      <td>-0.0047</td>\n",
       "      <td>0.0079</td>\n",
       "      <td>0.0192</td>\n",
       "      <td>0.0745</td>\n",
       "    </tr>\n",
       "    <tr>\n",
       "      <th>Merger Arbitrage</th>\n",
       "      <td>263.0000</td>\n",
       "      <td>0.0054</td>\n",
       "      <td>0.0096</td>\n",
       "      <td>-0.0544</td>\n",
       "      <td>0.0006</td>\n",
       "      <td>0.0060</td>\n",
       "      <td>0.0111</td>\n",
       "      <td>0.0272</td>\n",
       "    </tr>\n",
       "    <tr>\n",
       "      <th>Relative Value</th>\n",
       "      <td>263.0000</td>\n",
       "      <td>0.0058</td>\n",
       "      <td>0.0115</td>\n",
       "      <td>-0.0692</td>\n",
       "      <td>0.0010</td>\n",
       "      <td>0.0067</td>\n",
       "      <td>0.0129</td>\n",
       "      <td>0.0392</td>\n",
       "    </tr>\n",
       "    <tr>\n",
       "      <th>Short Selling</th>\n",
       "      <td>263.0000</td>\n",
       "      <td>-0.0017</td>\n",
       "      <td>0.0477</td>\n",
       "      <td>-0.1340</td>\n",
       "      <td>-0.0271</td>\n",
       "      <td>-0.0053</td>\n",
       "      <td>0.0198</td>\n",
       "      <td>0.2463</td>\n",
       "    </tr>\n",
       "    <tr>\n",
       "      <th>Funds Of Funds</th>\n",
       "      <td>263.0000</td>\n",
       "      <td>0.0043</td>\n",
       "      <td>0.0156</td>\n",
       "      <td>-0.0618</td>\n",
       "      <td>-0.0035</td>\n",
       "      <td>0.0052</td>\n",
       "      <td>0.0121</td>\n",
       "      <td>0.0666</td>\n",
       "    </tr>\n",
       "  </tbody>\n",
       "</table>\n",
       "</div>"
      ],
      "text/plain": [
       "                          count    mean    std     min     25%     50%    75%  \\\n",
       "Convertible Arbitrage  263.0000  0.0055 0.0166 -0.1237 -0.0002  0.0065 0.0136   \n",
       "CTA Global             263.0000  0.0041 0.0233 -0.0568 -0.0120  0.0014 0.0198   \n",
       "Distressed Securities  263.0000  0.0069 0.0170 -0.0836 -0.0015  0.0089 0.0178   \n",
       "Emerging Markets       263.0000  0.0063 0.0325 -0.1922 -0.0097  0.0096 0.0257   \n",
       "Equity Market Neutral  263.0000  0.0045 0.0081 -0.0587  0.0015  0.0051 0.0083   \n",
       "Event Driven           263.0000  0.0063 0.0167 -0.0886 -0.0015  0.0084 0.0162   \n",
       "Fixed Income Arbitrage 263.0000  0.0044 0.0115 -0.0867  0.0016  0.0055 0.0095   \n",
       "Global Macro           263.0000  0.0054 0.0147 -0.0313 -0.0040  0.0038 0.0124   \n",
       "Long/Short Equity      263.0000  0.0063 0.0199 -0.0675 -0.0047  0.0079 0.0192   \n",
       "Merger Arbitrage       263.0000  0.0054 0.0096 -0.0544  0.0006  0.0060 0.0111   \n",
       "Relative Value         263.0000  0.0058 0.0115 -0.0692  0.0010  0.0067 0.0129   \n",
       "Short Selling          263.0000 -0.0017 0.0477 -0.1340 -0.0271 -0.0053 0.0198   \n",
       "Funds Of Funds         263.0000  0.0043 0.0156 -0.0618 -0.0035  0.0052 0.0121   \n",
       "\n",
       "                          max  \n",
       "Convertible Arbitrage  0.0611  \n",
       "CTA Global             0.0691  \n",
       "Distressed Securities  0.0504  \n",
       "Emerging Markets       0.1230  \n",
       "Equity Market Neutral  0.0253  \n",
       "Event Driven           0.0442  \n",
       "Fixed Income Arbitrage 0.0365  \n",
       "Global Macro           0.0738  \n",
       "Long/Short Equity      0.0745  \n",
       "Merger Arbitrage       0.0272  \n",
       "Relative Value         0.0392  \n",
       "Short Selling          0.2463  \n",
       "Funds Of Funds         0.0666  "
      ]
     },
     "execution_count": 35,
     "metadata": {},
     "output_type": "execute_result"
    }
   ],
   "source": [
    "hfi.describe().transpose()"
   ]
  },
  {
   "cell_type": "code",
   "execution_count": 36,
   "id": "2b5bdb6e",
   "metadata": {},
   "outputs": [
    {
     "data": {
      "text/html": [
       "<div>\n",
       "<style scoped>\n",
       "    .dataframe tbody tr th:only-of-type {\n",
       "        vertical-align: middle;\n",
       "    }\n",
       "\n",
       "    .dataframe tbody tr th {\n",
       "        vertical-align: top;\n",
       "    }\n",
       "\n",
       "    .dataframe thead th {\n",
       "        text-align: right;\n",
       "    }\n",
       "</style>\n",
       "<table border=\"1\" class=\"dataframe\">\n",
       "  <thead>\n",
       "    <tr style=\"text-align: right;\">\n",
       "      <th></th>\n",
       "      <th>0</th>\n",
       "      <th>1</th>\n",
       "      <th>2</th>\n",
       "    </tr>\n",
       "  </thead>\n",
       "  <tbody>\n",
       "    <tr>\n",
       "      <th>Convertible Arbitrage</th>\n",
       "      <td>0.0055</td>\n",
       "      <td>0.0065</td>\n",
       "      <td>False</td>\n",
       "    </tr>\n",
       "    <tr>\n",
       "      <th>CTA Global</th>\n",
       "      <td>0.0041</td>\n",
       "      <td>0.0014</td>\n",
       "      <td>True</td>\n",
       "    </tr>\n",
       "    <tr>\n",
       "      <th>Distressed Securities</th>\n",
       "      <td>0.0069</td>\n",
       "      <td>0.0089</td>\n",
       "      <td>False</td>\n",
       "    </tr>\n",
       "    <tr>\n",
       "      <th>Emerging Markets</th>\n",
       "      <td>0.0063</td>\n",
       "      <td>0.0096</td>\n",
       "      <td>False</td>\n",
       "    </tr>\n",
       "    <tr>\n",
       "      <th>Equity Market Neutral</th>\n",
       "      <td>0.0045</td>\n",
       "      <td>0.0051</td>\n",
       "      <td>False</td>\n",
       "    </tr>\n",
       "    <tr>\n",
       "      <th>Event Driven</th>\n",
       "      <td>0.0063</td>\n",
       "      <td>0.0084</td>\n",
       "      <td>False</td>\n",
       "    </tr>\n",
       "    <tr>\n",
       "      <th>Fixed Income Arbitrage</th>\n",
       "      <td>0.0044</td>\n",
       "      <td>0.0055</td>\n",
       "      <td>False</td>\n",
       "    </tr>\n",
       "    <tr>\n",
       "      <th>Global Macro</th>\n",
       "      <td>0.0054</td>\n",
       "      <td>0.0038</td>\n",
       "      <td>True</td>\n",
       "    </tr>\n",
       "    <tr>\n",
       "      <th>Long/Short Equity</th>\n",
       "      <td>0.0063</td>\n",
       "      <td>0.0079</td>\n",
       "      <td>False</td>\n",
       "    </tr>\n",
       "    <tr>\n",
       "      <th>Merger Arbitrage</th>\n",
       "      <td>0.0054</td>\n",
       "      <td>0.0060</td>\n",
       "      <td>False</td>\n",
       "    </tr>\n",
       "    <tr>\n",
       "      <th>Relative Value</th>\n",
       "      <td>0.0058</td>\n",
       "      <td>0.0067</td>\n",
       "      <td>False</td>\n",
       "    </tr>\n",
       "    <tr>\n",
       "      <th>Short Selling</th>\n",
       "      <td>-0.0017</td>\n",
       "      <td>-0.0053</td>\n",
       "      <td>True</td>\n",
       "    </tr>\n",
       "    <tr>\n",
       "      <th>Funds Of Funds</th>\n",
       "      <td>0.0043</td>\n",
       "      <td>0.0052</td>\n",
       "      <td>False</td>\n",
       "    </tr>\n",
       "  </tbody>\n",
       "</table>\n",
       "</div>"
      ],
      "text/plain": [
       "                             0       1      2\n",
       "Convertible Arbitrage   0.0055  0.0065  False\n",
       "CTA Global              0.0041  0.0014   True\n",
       "Distressed Securities   0.0069  0.0089  False\n",
       "Emerging Markets        0.0063  0.0096  False\n",
       "Equity Market Neutral   0.0045  0.0051  False\n",
       "Event Driven            0.0063  0.0084  False\n",
       "Fixed Income Arbitrage  0.0044  0.0055  False\n",
       "Global Macro            0.0054  0.0038   True\n",
       "Long/Short Equity       0.0063  0.0079  False\n",
       "Merger Arbitrage        0.0054  0.0060  False\n",
       "Relative Value          0.0058  0.0067  False\n",
       "Short Selling          -0.0017 -0.0053   True\n",
       "Funds Of Funds          0.0043  0.0052  False"
      ]
     },
     "execution_count": 36,
     "metadata": {},
     "output_type": "execute_result"
    }
   ],
   "source": [
    "pd.concat([hfi.mean(),hfi.median(),hfi.mean()>hfi.median()],axis=1)"
   ]
  },
  {
   "cell_type": "markdown",
   "id": "baa0c635",
   "metadata": {},
   "source": [
    "### Calculating Sharpe Ratio"
   ]
  },
  {
   "cell_type": "code",
   "execution_count": 37,
   "id": "e8409855",
   "metadata": {},
   "outputs": [
    {
     "data": {
      "text/html": [
       "<div>\n",
       "<style scoped>\n",
       "    .dataframe tbody tr th:only-of-type {\n",
       "        vertical-align: middle;\n",
       "    }\n",
       "\n",
       "    .dataframe tbody tr th {\n",
       "        vertical-align: top;\n",
       "    }\n",
       "\n",
       "    .dataframe thead th {\n",
       "        text-align: right;\n",
       "    }\n",
       "</style>\n",
       "<table border=\"1\" class=\"dataframe\">\n",
       "  <thead>\n",
       "    <tr style=\"text-align: right;\">\n",
       "      <th></th>\n",
       "      <th>Annualized Returns</th>\n",
       "      <th>Annualized Volatility</th>\n",
       "      <th>Sharpe Ratio</th>\n",
       "    </tr>\n",
       "  </thead>\n",
       "  <tbody>\n",
       "    <tr>\n",
       "      <th>Convertible Arbitrage</th>\n",
       "      <td>0.0664</td>\n",
       "      <td>0.0574</td>\n",
       "      <td>0.6334</td>\n",
       "    </tr>\n",
       "    <tr>\n",
       "      <th>CTA Global</th>\n",
       "      <td>0.0466</td>\n",
       "      <td>0.0808</td>\n",
       "      <td>0.2056</td>\n",
       "    </tr>\n",
       "    <tr>\n",
       "      <th>Distressed Securities</th>\n",
       "      <td>0.0847</td>\n",
       "      <td>0.0590</td>\n",
       "      <td>0.9270</td>\n",
       "    </tr>\n",
       "    <tr>\n",
       "      <th>Emerging Markets</th>\n",
       "      <td>0.0708</td>\n",
       "      <td>0.1127</td>\n",
       "      <td>0.3616</td>\n",
       "    </tr>\n",
       "    <tr>\n",
       "      <th>Equity Market Neutral</th>\n",
       "      <td>0.0549</td>\n",
       "      <td>0.0282</td>\n",
       "      <td>0.8846</td>\n",
       "    </tr>\n",
       "    <tr>\n",
       "      <th>Event Driven</th>\n",
       "      <td>0.0770</td>\n",
       "      <td>0.0580</td>\n",
       "      <td>0.8109</td>\n",
       "    </tr>\n",
       "    <tr>\n",
       "      <th>Fixed Income Arbitrage</th>\n",
       "      <td>0.0528</td>\n",
       "      <td>0.0400</td>\n",
       "      <td>0.5704</td>\n",
       "    </tr>\n",
       "    <tr>\n",
       "      <th>Global Macro</th>\n",
       "      <td>0.0654</td>\n",
       "      <td>0.0510</td>\n",
       "      <td>0.6950</td>\n",
       "    </tr>\n",
       "    <tr>\n",
       "      <th>Long/Short Equity</th>\n",
       "      <td>0.0761</td>\n",
       "      <td>0.0691</td>\n",
       "      <td>0.6680</td>\n",
       "    </tr>\n",
       "    <tr>\n",
       "      <th>Merger Arbitrage</th>\n",
       "      <td>0.0656</td>\n",
       "      <td>0.0333</td>\n",
       "      <td>1.0687</td>\n",
       "    </tr>\n",
       "    <tr>\n",
       "      <th>Relative Value</th>\n",
       "      <td>0.0709</td>\n",
       "      <td>0.0398</td>\n",
       "      <td>1.0285</td>\n",
       "    </tr>\n",
       "    <tr>\n",
       "      <th>Short Selling</th>\n",
       "      <td>-0.0333</td>\n",
       "      <td>0.1654</td>\n",
       "      <td>-0.3826</td>\n",
       "    </tr>\n",
       "    <tr>\n",
       "      <th>Funds Of Funds</th>\n",
       "      <td>0.0508</td>\n",
       "      <td>0.0539</td>\n",
       "      <td>0.3866</td>\n",
       "    </tr>\n",
       "  </tbody>\n",
       "</table>\n",
       "</div>"
      ],
      "text/plain": [
       "                        Annualized Returns  Annualized Volatility  \\\n",
       "Convertible Arbitrage               0.0664                 0.0574   \n",
       "CTA Global                          0.0466                 0.0808   \n",
       "Distressed Securities               0.0847                 0.0590   \n",
       "Emerging Markets                    0.0708                 0.1127   \n",
       "Equity Market Neutral               0.0549                 0.0282   \n",
       "Event Driven                        0.0770                 0.0580   \n",
       "Fixed Income Arbitrage              0.0528                 0.0400   \n",
       "Global Macro                        0.0654                 0.0510   \n",
       "Long/Short Equity                   0.0761                 0.0691   \n",
       "Merger Arbitrage                    0.0656                 0.0333   \n",
       "Relative Value                      0.0709                 0.0398   \n",
       "Short Selling                      -0.0333                 0.1654   \n",
       "Funds Of Funds                      0.0508                 0.0539   \n",
       "\n",
       "                        Sharpe Ratio  \n",
       "Convertible Arbitrage         0.6334  \n",
       "CTA Global                    0.2056  \n",
       "Distressed Securities         0.9270  \n",
       "Emerging Markets              0.3616  \n",
       "Equity Market Neutral         0.8846  \n",
       "Event Driven                  0.8109  \n",
       "Fixed Income Arbitrage        0.5704  \n",
       "Global Macro                  0.6950  \n",
       "Long/Short Equity             0.6680  \n",
       "Merger Arbitrage              1.0687  \n",
       "Relative Value                1.0285  \n",
       "Short Selling                -0.3826  \n",
       "Funds Of Funds                0.3866  "
      ]
     },
     "execution_count": 37,
     "metadata": {},
     "output_type": "execute_result"
    }
   ],
   "source": [
    "rk.sharpe_ratio(hfi)"
   ]
  },
  {
   "cell_type": "markdown",
   "id": "ef52caf1",
   "metadata": {},
   "source": [
    "### Calculating Drawdowns over period"
   ]
  },
  {
   "cell_type": "code",
   "execution_count": 38,
   "id": "e528d838",
   "metadata": {},
   "outputs": [
    {
     "data": {
      "text/html": [
       "<div>\n",
       "<style scoped>\n",
       "    .dataframe tbody tr th:only-of-type {\n",
       "        vertical-align: middle;\n",
       "    }\n",
       "\n",
       "    .dataframe tbody tr th {\n",
       "        vertical-align: top;\n",
       "    }\n",
       "\n",
       "    .dataframe thead th {\n",
       "        text-align: right;\n",
       "    }\n",
       "</style>\n",
       "<table border=\"1\" class=\"dataframe\">\n",
       "  <thead>\n",
       "    <tr style=\"text-align: right;\">\n",
       "      <th></th>\n",
       "      <th>Wealth Index</th>\n",
       "      <th>Last Peak</th>\n",
       "      <th>Drawdown</th>\n",
       "    </tr>\n",
       "    <tr>\n",
       "      <th>date</th>\n",
       "      <th></th>\n",
       "      <th></th>\n",
       "      <th></th>\n",
       "    </tr>\n",
       "  </thead>\n",
       "  <tbody>\n",
       "    <tr>\n",
       "      <th>1997-01</th>\n",
       "      <td>1039.3000</td>\n",
       "      <td>1039.3000</td>\n",
       "      <td>0.0000</td>\n",
       "    </tr>\n",
       "    <tr>\n",
       "      <th>1997-02</th>\n",
       "      <td>1070.2711</td>\n",
       "      <td>1070.2711</td>\n",
       "      <td>0.0000</td>\n",
       "    </tr>\n",
       "    <tr>\n",
       "      <th>1997-03</th>\n",
       "      <td>1068.0236</td>\n",
       "      <td>1070.2711</td>\n",
       "      <td>-0.0021</td>\n",
       "    </tr>\n",
       "    <tr>\n",
       "      <th>1997-04</th>\n",
       "      <td>1049.8672</td>\n",
       "      <td>1070.2711</td>\n",
       "      <td>-0.0191</td>\n",
       "    </tr>\n",
       "    <tr>\n",
       "      <th>1997-05</th>\n",
       "      <td>1048.2924</td>\n",
       "      <td>1070.2711</td>\n",
       "      <td>-0.0205</td>\n",
       "    </tr>\n",
       "    <tr>\n",
       "      <th>...</th>\n",
       "      <td>...</td>\n",
       "      <td>...</td>\n",
       "      <td>...</td>\n",
       "    </tr>\n",
       "    <tr>\n",
       "      <th>2018-07</th>\n",
       "      <td>2786.4664</td>\n",
       "      <td>3059.0811</td>\n",
       "      <td>-0.0891</td>\n",
       "    </tr>\n",
       "    <tr>\n",
       "      <th>2018-08</th>\n",
       "      <td>2832.7218</td>\n",
       "      <td>3059.0811</td>\n",
       "      <td>-0.0740</td>\n",
       "    </tr>\n",
       "    <tr>\n",
       "      <th>2018-09</th>\n",
       "      <td>2817.4251</td>\n",
       "      <td>3059.0811</td>\n",
       "      <td>-0.0790</td>\n",
       "    </tr>\n",
       "    <tr>\n",
       "      <th>2018-10</th>\n",
       "      <td>2728.9579</td>\n",
       "      <td>3059.0811</td>\n",
       "      <td>-0.1079</td>\n",
       "    </tr>\n",
       "    <tr>\n",
       "      <th>2018-11</th>\n",
       "      <td>2714.4945</td>\n",
       "      <td>3059.0811</td>\n",
       "      <td>-0.1126</td>\n",
       "    </tr>\n",
       "  </tbody>\n",
       "</table>\n",
       "<p>263 rows × 3 columns</p>\n",
       "</div>"
      ],
      "text/plain": [
       "         Wealth Index  Last Peak  Drawdown\n",
       "date                                      \n",
       "1997-01     1039.3000  1039.3000    0.0000\n",
       "1997-02     1070.2711  1070.2711    0.0000\n",
       "1997-03     1068.0236  1070.2711   -0.0021\n",
       "1997-04     1049.8672  1070.2711   -0.0191\n",
       "1997-05     1048.2924  1070.2711   -0.0205\n",
       "...               ...        ...       ...\n",
       "2018-07     2786.4664  3059.0811   -0.0891\n",
       "2018-08     2832.7218  3059.0811   -0.0740\n",
       "2018-09     2817.4251  3059.0811   -0.0790\n",
       "2018-10     2728.9579  3059.0811   -0.1079\n",
       "2018-11     2714.4945  3059.0811   -0.1126\n",
       "\n",
       "[263 rows x 3 columns]"
      ]
     },
     "execution_count": 38,
     "metadata": {},
     "output_type": "execute_result"
    }
   ],
   "source": [
    "CTA_Glob=rk.drawdowns(hfi[\"CTA Global\"])\n",
    "CTA_Glob"
   ]
  },
  {
   "cell_type": "code",
   "execution_count": 39,
   "id": "e2975583",
   "metadata": {},
   "outputs": [
    {
     "data": {
      "text/plain": [
       "-0.1255794426646723"
      ]
     },
     "execution_count": 39,
     "metadata": {},
     "output_type": "execute_result"
    }
   ],
   "source": [
    "CTA_Glob[\"Drawdown\"].min()"
   ]
  },
  {
   "cell_type": "code",
   "execution_count": 40,
   "id": "6c79c42d",
   "metadata": {},
   "outputs": [
    {
     "data": {
      "text/plain": [
       "Period('2013-09', 'M')"
      ]
     },
     "execution_count": 40,
     "metadata": {},
     "output_type": "execute_result"
    }
   ],
   "source": [
    "CTA_Glob[\"Drawdown\"].idxmin()"
   ]
  },
  {
   "cell_type": "markdown",
   "id": "7a4ee2db",
   "metadata": {},
   "source": [
    "### Plotting these measures"
   ]
  },
  {
   "cell_type": "code",
   "execution_count": 41,
   "id": "e4f90e81",
   "metadata": {},
   "outputs": [
    {
     "data": {
      "text/plain": [
       "<Axes: xlabel='date'>"
      ]
     },
     "execution_count": 41,
     "metadata": {},
     "output_type": "execute_result"
    },
    {
     "data": {
      "image/png": "[encoded data removed]",
      "text/plain": [
       "<Figure size 640x480 with 1 Axes>"
      ]
     },
     "metadata": {},
     "output_type": "display_data"
    }
   ],
   "source": [
    "CTA_Glob[\"Wealth Index\"].plot.line()"
   ]
  },
  {
   "cell_type": "code",
   "execution_count": 42,
   "id": "9d9302d9",
   "metadata": {},
   "outputs": [
    {
     "data": {
      "text/plain": [
       "<Axes: xlabel='date'>"
      ]
     },
     "execution_count": 42,
     "metadata": {},
     "output_type": "execute_result"
    },
    {
     "data": {
      "image/png": "[encoded data removed]",
      "text/plain": [
       "<Figure size 640x480 with 1 Axes>"
      ]
     },
     "metadata": {},
     "output_type": "display_data"
    }
   ],
   "source": [
    "CTA_Glob[\"Last Peak\"].plot.line()"
   ]
  },
  {
   "cell_type": "code",
   "execution_count": 43,
   "id": "9d080244",
   "metadata": {
    "scrolled": true
   },
   "outputs": [
    {
     "data": {
      "text/plain": [
       "<Axes: xlabel='date'>"
      ]
     },
     "execution_count": 43,
     "metadata": {},
     "output_type": "execute_result"
    },
    {
     "data": {
      "image/png": "[encoded data removed]",
      "text/plain": [
       "<Figure size 640x480 with 1 Axes>"
      ]
     },
     "metadata": {},
     "output_type": "display_data"
    }
   ],
   "source": [
    "CTA_Glob[\"Drawdown\"].plot.line()"
   ]
  },
  {
   "cell_type": "markdown",
   "id": "7d7c0fb2",
   "metadata": {},
   "source": [
    "### Calculating Skewness"
   ]
  },
  {
   "cell_type": "code",
   "execution_count": 44,
   "id": "b6594d48",
   "metadata": {},
   "outputs": [
    {
     "data": {
      "text/plain": [
       "Fixed Income Arbitrage   -3.9403\n",
       "Convertible Arbitrage    -2.6396\n",
       "Equity Market Neutral    -2.1244\n",
       "Relative Value           -1.8155\n",
       "Event Driven             -1.4092\n",
       "Merger Arbitrage         -1.3201\n",
       "Distressed Securities    -1.3008\n",
       "Emerging Markets         -1.1671\n",
       "Long/Short Equity        -0.3902\n",
       "Funds Of Funds           -0.3618\n",
       "CTA Global                0.1737\n",
       "Short Selling             0.7680\n",
       "Global Macro              0.9829\n",
       "dtype: float64"
      ]
     },
     "execution_count": 44,
     "metadata": {},
     "output_type": "execute_result"
    }
   ],
   "source": [
    "rk.magic_moments(hfi,moment=3).sort_values()"
   ]
  },
  {
   "cell_type": "code",
   "execution_count": 45,
   "id": "23597a54",
   "metadata": {},
   "outputs": [
    {
     "data": {
      "text/plain": [
       "array([-2.63959223,  0.17369864, -1.30084204, -1.16706749, -2.12443538,\n",
       "       -1.40915356, -3.94032029,  0.98292188, -0.39022677, -1.32008333,\n",
       "       -1.81546975,  0.76797484, -0.36178308])"
      ]
     },
     "execution_count": 45,
     "metadata": {},
     "output_type": "execute_result"
    }
   ],
   "source": [
    "scipy.stats.skew(hfi)"
   ]
  },
  {
   "cell_type": "markdown",
   "id": "7e5d4e85",
   "metadata": {},
   "source": [
    "### Measuring Kurtosis"
   ]
  },
  {
   "cell_type": "code",
   "execution_count": 46,
   "id": "392e812e",
   "metadata": {},
   "outputs": [
    {
     "data": {
      "text/plain": [
       "CTA Global                2.9530\n",
       "Long/Short Equity         4.5239\n",
       "Global Macro              5.7417\n",
       "Short Selling             6.1178\n",
       "Funds Of Funds            7.0702\n",
       "Distressed Securities     7.8900\n",
       "Event Driven              8.0358\n",
       "Merger Arbitrage          8.7389\n",
       "Emerging Markets          9.2508\n",
       "Relative Value           12.1212\n",
       "Equity Market Neutral    17.2186\n",
       "Convertible Arbitrage    23.2808\n",
       "Fixed Income Arbitrage   29.8422\n",
       "dtype: float64"
      ]
     },
     "execution_count": 46,
     "metadata": {},
     "output_type": "execute_result"
    }
   ],
   "source": [
    "rk.magic_moments(hfi,moment=4).sort_values()"
   ]
  },
  {
   "cell_type": "code",
   "execution_count": 47,
   "id": "4e953fb5",
   "metadata": {},
   "outputs": [
    {
     "data": {
      "text/plain": [
       "array([20.28083446, -0.04703963,  4.88998336,  6.25078841, 14.21855526,\n",
       "        5.03582817, 26.84219928,  2.74167945,  1.52389258,  5.73894979,\n",
       "        9.12120787,  3.11777175,  4.07015278])"
      ]
     },
     "execution_count": 47,
     "metadata": {},
     "output_type": "execute_result"
    }
   ],
   "source": [
    "scipy.stats.kurtosis(hfi)"
   ]
  },
  {
   "cell_type": "markdown",
   "id": "32dcd713",
   "metadata": {},
   "source": [
    "### Applying jarque-bera test"
   ]
  },
  {
   "cell_type": "code",
   "execution_count": 48,
   "id": "22e99d64",
   "metadata": {},
   "outputs": [
    {
     "data": {
      "text/plain": [
       "Convertible Arbitrage     False\n",
       "CTA Global                 True\n",
       "Distressed Securities     False\n",
       "Emerging Markets          False\n",
       "Equity Market Neutral     False\n",
       "Event Driven              False\n",
       "Fixed Income Arbitrage    False\n",
       "Global Macro              False\n",
       "Long/Short Equity         False\n",
       "Merger Arbitrage          False\n",
       "Relative Value            False\n",
       "Short Selling             False\n",
       "Funds Of Funds            False\n",
       "dtype: bool"
      ]
     },
     "execution_count": 48,
     "metadata": {},
     "output_type": "execute_result"
    }
   ],
   "source": [
    "hfi.aggregate(rk.is_normal,level=0.05)"
   ]
  },
  {
   "cell_type": "markdown",
   "id": "4cedd1fb",
   "metadata": {},
   "source": [
    "### Since we are only worried about the volatility caused by negative returns"
   ]
  },
  {
   "cell_type": "code",
   "execution_count": 51,
   "id": "7cf48a03",
   "metadata": {},
   "outputs": [
    {
     "data": {
      "text/plain": [
       "Convertible Arbitrage    0.0195\n",
       "CTA Global               0.0124\n",
       "Distressed Securities    0.0152\n",
       "Emerging Markets         0.0280\n",
       "Equity Market Neutral    0.0096\n",
       "Event Driven             0.0154\n",
       "Fixed Income Arbitrage   0.0178\n",
       "Global Macro             0.0066\n",
       "Long/Short Equity        0.0141\n",
       "Merger Arbitrage         0.0089\n",
       "Relative Value           0.0122\n",
       "Short Selling            0.0273\n",
       "Funds Of Funds           0.0121\n",
       "dtype: float64"
      ]
     },
     "execution_count": 51,
     "metadata": {},
     "output_type": "execute_result"
    }
   ],
   "source": [
    "rk.semi_deviation(hfi)"
   ]
  },
  {
   "cell_type": "markdown",
   "id": "3a64e546",
   "metadata": {},
   "source": [
    "## Estimating different Value and Risk Measures VaR and CVaR"
   ]
  },
  {
   "cell_type": "markdown",
   "id": "67c0e469",
   "metadata": {},
   "source": [
    "### VaR based on historical sample data"
   ]
  },
  {
   "cell_type": "code",
   "execution_count": 58,
   "id": "c659e6ac",
   "metadata": {},
   "outputs": [
    {
     "data": {
      "text/plain": [
       "Convertible Arbitrage    0.0158\n",
       "CTA Global               0.0317\n",
       "Distressed Securities    0.0197\n",
       "Emerging Markets         0.0425\n",
       "Equity Market Neutral    0.0081\n",
       "Event Driven             0.0253\n",
       "Fixed Income Arbitrage   0.0079\n",
       "Global Macro             0.0150\n",
       "Long/Short Equity        0.0260\n",
       "Merger Arbitrage         0.0105\n",
       "Relative Value           0.0117\n",
       "Short Selling            0.0678\n",
       "Funds Of Funds           0.0205\n",
       "dtype: float64"
      ]
     },
     "execution_count": 58,
     "metadata": {},
     "output_type": "execute_result"
    }
   ],
   "source": [
    "rk.var_historic(hfi)"
   ]
  },
  {
   "cell_type": "markdown",
   "id": "9948c6f0",
   "metadata": {},
   "source": [
    "### VaR based on Gaussian Distribution assumption"
   ]
  },
  {
   "cell_type": "code",
   "execution_count": 62,
   "id": "cc026274",
   "metadata": {},
   "outputs": [
    {
     "data": {
      "text/plain": [
       "Convertible Arbitrage    0.0217\n",
       "CTA Global               0.0342\n",
       "Distressed Securities    0.0210\n",
       "Emerging Markets         0.0472\n",
       "Equity Market Neutral    0.0088\n",
       "Event Driven             0.0211\n",
       "Fixed Income Arbitrage   0.0146\n",
       "Global Macro             0.0188\n",
       "Long/Short Equity        0.0264\n",
       "Merger Arbitrage         0.0104\n",
       "Relative Value           0.0131\n",
       "Short Selling            0.0801\n",
       "Funds Of Funds           0.0213\n",
       "dtype: float64"
      ]
     },
     "execution_count": 62,
     "metadata": {},
     "output_type": "execute_result"
    }
   ],
   "source": [
    "rk.var_assumption(hfi)"
   ]
  },
  {
   "cell_type": "markdown",
   "id": "d6f0f63f",
   "metadata": {},
   "source": [
    "### VaR based on non Gaussian Distribution assumption, cornish-fisher method"
   ]
  },
  {
   "cell_type": "code",
   "execution_count": 65,
   "id": "64dfa855",
   "metadata": {},
   "outputs": [
    {
     "data": {
      "text/plain": [
       "Convertible Arbitrage    0.0252\n",
       "CTA Global               0.0331\n",
       "Distressed Securities    0.0251\n",
       "Emerging Markets         0.0530\n",
       "Equity Market Neutral    0.0107\n",
       "Event Driven             0.0255\n",
       "Fixed Income Arbitrage   0.0179\n",
       "Global Macro             0.0136\n",
       "Long/Short Equity        0.0279\n",
       "Merger Arbitrage         0.0126\n",
       "Relative Value           0.0162\n",
       "Short Selling            0.0662\n",
       "Funds Of Funds           0.0216\n",
       "dtype: float64"
      ]
     },
     "execution_count": 65,
     "metadata": {},
     "output_type": "execute_result"
    }
   ],
   "source": [
    "rk.var_assumption(hfi,5,modified=True)"
   ]
  },
  {
   "cell_type": "markdown",
   "id": "4306873a",
   "metadata": {},
   "source": [
    "### Plotting different VaR"
   ]
  },
  {
   "cell_type": "code",
   "execution_count": 71,
   "id": "1681a000",
   "metadata": {},
   "outputs": [
    {
     "data": {
      "text/html": [
       "<div>\n",
       "<style scoped>\n",
       "    .dataframe tbody tr th:only-of-type {\n",
       "        vertical-align: middle;\n",
       "    }\n",
       "\n",
       "    .dataframe tbody tr th {\n",
       "        vertical-align: top;\n",
       "    }\n",
       "\n",
       "    .dataframe thead th {\n",
       "        text-align: right;\n",
       "    }\n",
       "</style>\n",
       "<table border=\"1\" class=\"dataframe\">\n",
       "  <thead>\n",
       "    <tr style=\"text-align: right;\">\n",
       "      <th></th>\n",
       "      <th>Gaussian VaR</th>\n",
       "      <th>Cornish-Fisher</th>\n",
       "      <th>Historic VaR</th>\n",
       "    </tr>\n",
       "  </thead>\n",
       "  <tbody>\n",
       "    <tr>\n",
       "      <th>Convertible Arbitrage</th>\n",
       "      <td>0.0217</td>\n",
       "      <td>0.0252</td>\n",
       "      <td>0.0158</td>\n",
       "    </tr>\n",
       "    <tr>\n",
       "      <th>CTA Global</th>\n",
       "      <td>0.0342</td>\n",
       "      <td>0.0331</td>\n",
       "      <td>0.0317</td>\n",
       "    </tr>\n",
       "    <tr>\n",
       "      <th>Distressed Securities</th>\n",
       "      <td>0.0210</td>\n",
       "      <td>0.0251</td>\n",
       "      <td>0.0197</td>\n",
       "    </tr>\n",
       "    <tr>\n",
       "      <th>Emerging Markets</th>\n",
       "      <td>0.0472</td>\n",
       "      <td>0.0530</td>\n",
       "      <td>0.0425</td>\n",
       "    </tr>\n",
       "    <tr>\n",
       "      <th>Equity Market Neutral</th>\n",
       "      <td>0.0088</td>\n",
       "      <td>0.0107</td>\n",
       "      <td>0.0081</td>\n",
       "    </tr>\n",
       "    <tr>\n",
       "      <th>Event Driven</th>\n",
       "      <td>0.0211</td>\n",
       "      <td>0.0255</td>\n",
       "      <td>0.0253</td>\n",
       "    </tr>\n",
       "    <tr>\n",
       "      <th>Fixed Income Arbitrage</th>\n",
       "      <td>0.0146</td>\n",
       "      <td>0.0179</td>\n",
       "      <td>0.0079</td>\n",
       "    </tr>\n",
       "    <tr>\n",
       "      <th>Global Macro</th>\n",
       "      <td>0.0188</td>\n",
       "      <td>0.0136</td>\n",
       "      <td>0.0150</td>\n",
       "    </tr>\n",
       "    <tr>\n",
       "      <th>Long/Short Equity</th>\n",
       "      <td>0.0264</td>\n",
       "      <td>0.0279</td>\n",
       "      <td>0.0260</td>\n",
       "    </tr>\n",
       "    <tr>\n",
       "      <th>Merger Arbitrage</th>\n",
       "      <td>0.0104</td>\n",
       "      <td>0.0126</td>\n",
       "      <td>0.0105</td>\n",
       "    </tr>\n",
       "    <tr>\n",
       "      <th>Relative Value</th>\n",
       "      <td>0.0131</td>\n",
       "      <td>0.0162</td>\n",
       "      <td>0.0117</td>\n",
       "    </tr>\n",
       "    <tr>\n",
       "      <th>Short Selling</th>\n",
       "      <td>0.0801</td>\n",
       "      <td>0.0662</td>\n",
       "      <td>0.0678</td>\n",
       "    </tr>\n",
       "    <tr>\n",
       "      <th>Funds Of Funds</th>\n",
       "      <td>0.0213</td>\n",
       "      <td>0.0216</td>\n",
       "      <td>0.0205</td>\n",
       "    </tr>\n",
       "  </tbody>\n",
       "</table>\n",
       "</div>"
      ],
      "text/plain": [
       "                        Gaussian VaR  Cornish-Fisher  Historic VaR\n",
       "Convertible Arbitrage         0.0217          0.0252        0.0158\n",
       "CTA Global                    0.0342          0.0331        0.0317\n",
       "Distressed Securities         0.0210          0.0251        0.0197\n",
       "Emerging Markets              0.0472          0.0530        0.0425\n",
       "Equity Market Neutral         0.0088          0.0107        0.0081\n",
       "Event Driven                  0.0211          0.0255        0.0253\n",
       "Fixed Income Arbitrage        0.0146          0.0179        0.0079\n",
       "Global Macro                  0.0188          0.0136        0.0150\n",
       "Long/Short Equity             0.0264          0.0279        0.0260\n",
       "Merger Arbitrage              0.0104          0.0126        0.0105\n",
       "Relative Value                0.0131          0.0162        0.0117\n",
       "Short Selling                 0.0801          0.0662        0.0678\n",
       "Funds Of Funds                0.0213          0.0216        0.0205"
      ]
     },
     "execution_count": 71,
     "metadata": {},
     "output_type": "execute_result"
    }
   ],
   "source": [
    "ls=[rk.var_assumption(hfi),rk.var_assumption(hfi,modified=True),rk.var_historic(hfi)]\n",
    "comp=pd.concat(ls,axis=1)\n",
    "comp.columns=[\"Gaussian VaR\",\"Cornish-Fisher\",\"Historic VaR\"]\n",
    "comp"
   ]
  },
  {
   "cell_type": "code",
   "execution_count": 72,
   "id": "38137098",
   "metadata": {},
   "outputs": [
    {
     "data": {
      "text/plain": [
       "<Axes: >"
      ]
     },
     "execution_count": 72,
     "metadata": {},
     "output_type": "execute_result"
    },
    {
     "data": {
      "image/png": "[encoded data removed]",
      "text/plain": [
       "<Figure size 640x480 with 1 Axes>"
      ]
     },
     "metadata": {},
     "output_type": "display_data"
    }
   ],
   "source": [
    "comp.plot.bar()"
   ]
  },
  {
   "cell_type": "markdown",
   "id": "3c1aaed3",
   "metadata": {},
   "source": [
    "### Estimating CVaR"
   ]
  },
  {
   "cell_type": "code",
   "execution_count": 76,
   "id": "418943f3",
   "metadata": {},
   "outputs": [
    {
     "data": {
      "text/plain": [
       "Convertible Arbitrage    -0.0365\n",
       "CTA Global               -0.0413\n",
       "Distressed Securities    -0.0364\n",
       "Emerging Markets         -0.0724\n",
       "Equity Market Neutral    -0.0169\n",
       "Event Driven             -0.0383\n",
       "Fixed Income Arbitrage   -0.0283\n",
       "Global Macro             -0.0206\n",
       "Long/Short Equity        -0.0419\n",
       "Merger Arbitrage         -0.0191\n",
       "Relative Value           -0.0246\n",
       "Short Selling            -0.0968\n",
       "Funds Of Funds           -0.0332\n",
       "dtype: float64"
      ]
     },
     "execution_count": 76,
     "metadata": {},
     "output_type": "execute_result"
    }
   ],
   "source": [
    "rk.historic_cvar(hfi)"
   ]
  },
  {
   "cell_type": "code",
   "execution_count": null,
   "id": "7ef6b985",
   "metadata": {},
   "outputs": [],
   "source": []
  }
 ],
 "metadata": {
  "kernelspec": {
   "display_name": "Python 3 (ipykernel)",
   "language": "python",
   "name": "python3"
  },
  "language_info": {
   "codemirror_mode": {
    "name": "ipython",
    "version": 3
   },
   "file_extension": ".py",
   "mimetype": "text/x-python",
   "name": "python",
   "nbconvert_exporter": "python",
   "pygments_lexer": "ipython3",
   "version": "3.11.5"
  }
 },
 "nbformat": 4,
 "nbformat_minor": 5
}
